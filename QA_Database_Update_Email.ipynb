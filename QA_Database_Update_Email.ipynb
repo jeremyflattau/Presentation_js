{
 "cells": [
  {
   "cell_type": "code",
   "execution_count": 1,
   "metadata": {
    "collapsed": true,
    "slideshow": {
     "slide_type": "skip"
    }
   },
   "outputs": [],
   "source": [
    "# Must open this file in QA_deliv directory in terminal\n",
    "# Read results of last download in QA_deliv folder, rename with date in it, then move to archive\n",
    "import os\n",
    "import json\n",
    "import datetime\n",
    "import pandas\n",
    "from pandas.io.json import json_normalize\n",
    "\n",
    "# Read existing file in main directory\n",
    "with open('annotation_stats.json') as json_data:\n",
    "    old = json.load(json_data)\n",
    "\n",
    "# Get date of existing file in main directory\n",
    "date_old=old['timestamp']\n",
    "old_date=datetime.datetime.fromtimestamp(date_old).strftime('%m-%d-%Y')\n",
    "\n",
    "# Create rename string for moving file\n",
    "rename= '/Users/jeremyflattau/Desktop/QA_deliver/archive/'+str(old_date)+'_annotation_stats.json'\n",
    "\n",
    "# Move and rename file\n",
    "os.rename('/Users/jeremyflattau/Desktop/QA_deliver/annotation_stats.json', rename)"
   ]
  },
  {
   "cell_type": "code",
   "execution_count": 2,
   "metadata": {
    "slideshow": {
     "slide_type": "skip"
    }
   },
   "outputs": [
    {
     "data": {
      "text/plain": [
       "0"
      ]
     },
     "execution_count": 2,
     "metadata": {},
     "output_type": "execute_result"
    }
   ],
   "source": [
    "# Conncect to remote machine and download newest json file\n",
    "os.system(\"scp -i ~/.ssh/jongpu.pem -r ubuntu@34.195.31.203:/persistant_data/annotation_stats.json /Users/jeremyflattau/Desktop/QA_deliver/\")"
   ]
  },
  {
   "cell_type": "code",
   "execution_count": 3,
   "metadata": {
    "collapsed": true,
    "slideshow": {
     "slide_type": "skip"
    }
   },
   "outputs": [],
   "source": [
    "# Read new file from QA_deliver folder\n",
    "os.chdir('/Users/jeremyflattau/Desktop/QA_deliver')\n",
    "\n",
    "with open('annotation_stats.json') as json_data:\n",
    "    new = json.load(json_data)\n",
    "    \n",
    "# Get date of new file \n",
    "date_new=new['timestamp']\n",
    "new_date=datetime.datetime.fromtimestamp(date_new).strftime('%m-%d-%Y')"
   ]
  },
  {
   "cell_type": "code",
   "execution_count": 4,
   "metadata": {
    "collapsed": true,
    "slideshow": {
     "slide_type": "skip"
    }
   },
   "outputs": [],
   "source": [
    "#####Extraction of Stats######\n",
    "\n",
    "#Object Detection - clip and objects count defining for latest and previous files\n",
    "\n",
    "# latest clip count by object\n",
    "cat_clip=new['video_counts']['cat']\n",
    "dog_clip=new['video_counts']['dog']\n",
    "cow_clip=new['video_counts']['cow']\n",
    "horse_clip=new['video_counts']['horse']\n",
    "sheep_clip=new['video_counts']['sheep']\n",
    "bird_clip=new['video_counts']['bird']\n",
    "insect_clip=new['video_counts']['insect']\n",
    "other_animal_clip=new['video_counts']['other_animal']\n",
    "bicycle_clip=new['video_counts']['bicycle']\n",
    "motorbike_clip=new['video_counts']['motorbike']\n",
    "bus_clip=new['video_counts']['bus']\n",
    "person_clip=new['video_counts']['person']\n",
    "train_clip=new['video_counts']['train']\n",
    "truck_clip=new['video_counts']['truck']\n",
    "car_clip=new['video_counts']['car']\n",
    "airplane_clip=new['video_counts']['airplane']\n",
    "boat_clip=new['video_counts']['boat']\n",
    "package_clip=new['video_counts']['package']\n",
    "face_clip=new['video_counts']['face']\n",
    "\n",
    "# latest track count by object\n",
    "cat_obj=new['individual_counts']['cat']\n",
    "dog_obj=new['individual_counts']['dog']\n",
    "cow_obj=new['individual_counts']['cow']\n",
    "horse_obj=new['individual_counts']['horse']\n",
    "sheep_obj=new['individual_counts']['sheep']\n",
    "bird_obj=new['individual_counts']['bird']\n",
    "insect_obj=new['individual_counts']['insect']\n",
    "other_animal_obj=new['individual_counts']['other_animal']\n",
    "bicycle_obj=new['individual_counts']['bicycle']\n",
    "motorbike_obj=new['individual_counts']['motorbike']\n",
    "bus_obj=new['individual_counts']['bus']\n",
    "person_obj=new['individual_counts']['person']\n",
    "train_obj=new['individual_counts']['train']\n",
    "truck_obj=new['individual_counts']['truck']\n",
    "car_obj=new['individual_counts']['car']\n",
    "airplane_obj=new['individual_counts']['airplane']\n",
    "boat_obj=new['individual_counts']['boat']\n",
    "package_obj=new['individual_counts']['package']\n",
    "face_obj=new['individual_counts']['face']\n",
    "\n",
    "\n",
    "# previous clip count by object\n",
    "prev_cat_clip=old['video_counts']['cat']\n",
    "prev_dog_clip=old['video_counts']['dog']\n",
    "prev_cow_clip=old['video_counts']['cow']\n",
    "prev_horse_clip=old['video_counts']['horse']\n",
    "prev_sheep_clip=old['video_counts']['sheep']\n",
    "prev_bird_clip=old['video_counts']['bird']\n",
    "prev_insect_clip=old['video_counts']['insect']\n",
    "prev_other_animal_clip=old['video_counts']['other_animal']\n",
    "prev_bicycle_clip=old['video_counts']['bicycle']\n",
    "prev_motorbike_clip=old['video_counts']['motorbike']\n",
    "prev_bus_clip=old['video_counts']['bus']\n",
    "prev_person_clip=old['video_counts']['person']\n",
    "prev_train_clip=old['video_counts']['train']\n",
    "prev_truck_clip=old['video_counts']['truck']\n",
    "prev_car_clip=old['video_counts']['car']\n",
    "prev_airplane_clip=old['video_counts']['airplane']\n",
    "prev_boat_clip=old['video_counts']['boat']\n",
    "prev_package_clip=old['video_counts']['package']\n",
    "prev_face_clip=old['video_counts']['face']\n",
    "\n",
    "# previous track count by object\n",
    "prev_cat_obj=old['individual_counts']['cat']\n",
    "prev_dog_obj=old['individual_counts']['dog']\n",
    "prev_cow_obj=old['individual_counts']['cow']\n",
    "prev_horse_obj=old['individual_counts']['horse']\n",
    "prev_sheep_obj=old['individual_counts']['sheep']\n",
    "prev_bird_obj=old['individual_counts']['bird']\n",
    "prev_insect_obj=old['individual_counts']['insect']\n",
    "prev_other_animal_obj=old['individual_counts']['other_animal']\n",
    "prev_bicycle_obj=old['individual_counts']['bicycle']\n",
    "prev_motorbike_obj=old['individual_counts']['motorbike']\n",
    "prev_bus_obj=old['individual_counts']['bus']\n",
    "prev_person_obj=old['individual_counts']['person']\n",
    "prev_train_obj=old['individual_counts']['train']\n",
    "prev_truck_obj=old['individual_counts']['truck']\n",
    "prev_car_obj=old['individual_counts']['car']\n",
    "prev_airplane_obj=old['individual_counts']['airplane']\n",
    "prev_boat_obj=old['individual_counts']['boat']\n",
    "prev_package_obj=old['individual_counts']['package']\n",
    "prev_face_obj=old['individual_counts']['face']"
   ]
  },
  {
   "cell_type": "markdown",
   "metadata": {
    "collapsed": true,
    "slideshow": {
     "slide_type": "slide"
    }
   },
   "source": [
    "# WEEKLY GROUND TRUTH UPDATE"
   ]
  },
  {
   "cell_type": "raw",
   "metadata": {
    "slideshow": {
     "slide_type": "-"
    }
   },
   "source": [
    "<style type=\"text/css\">\n",
    ".input_prompt, .input_area, .output_prompt {\n",
    "    display:none !important;\n",
    "}\n",
    "</style>"
   ]
  },
  {
   "cell_type": "markdown",
   "metadata": {
    "slideshow": {
     "slide_type": "slide"
    }
   },
   "source": [
    "### Summary"
   ]
  },
  {
   "cell_type": "markdown",
   "metadata": {
    "slideshow": {
     "slide_type": "-"
    }
   },
   "source": [
    "#### This is the first ground truth database report. You will receive this report every Monday. Feel free to get in touch if you have suggestions for improving the format of this report. "
   ]
  },
  {
   "cell_type": "markdown",
   "metadata": {
    "slideshow": {
     "slide_type": "slide"
    }
   },
   "source": [
    "### This Week's Challenge"
   ]
  },
  {
   "cell_type": "markdown",
   "metadata": {
    "collapsed": true,
    "slideshow": {
     "slide_type": "-"
    }
   },
   "source": [
    "#### This week's challenge is addressing ground truth accuracy. We insituted a new system where Khmerdev double checks the vatic annotations they have created and identifies errors for correction. Flawless ground truth will help us establish a reliable baseline for measuring object detection algorithm performance. "
   ]
  },
  {
   "cell_type": "markdown",
   "metadata": {
    "slideshow": {
     "slide_type": "slide"
    }
   },
   "source": [
    "### Call To Action"
   ]
  },
  {
   "cell_type": "markdown",
   "metadata": {
    "collapsed": true,
    "slideshow": {
     "slide_type": "-"
    }
   },
   "source": [
    "#### To increase the speed with which we improve our algorithms we need to do the following:"
   ]
  },
  {
   "cell_type": "markdown",
   "metadata": {
    "collapsed": true,
    "slideshow": {
     "slide_type": "fragment"
    }
   },
   "source": [
    "* Ask free camera users to adjust their camera views to better see their front door in order to capture more package deliveries"
   ]
  },
  {
   "cell_type": "markdown",
   "metadata": {
    "collapsed": true,
    "slideshow": {
     "slide_type": "fragment"
    }
   },
   "source": [
    "* Share the object detection evaluation script so Jeremy can independently run algo evaluation on any video"
   ]
  },
  {
   "cell_type": "markdown",
   "metadata": {
    "collapsed": true,
    "slideshow": {
     "slide_type": "skip"
    }
   },
   "source": [
    "* this is bullet 3"
   ]
  },
  {
   "cell_type": "markdown",
   "metadata": {
    "collapsed": true,
    "slideshow": {
     "slide_type": "slide"
    }
   },
   "source": [
    "# GROUND TRUTH STATISTICS"
   ]
  },
  {
   "cell_type": "markdown",
   "metadata": {
    "slideshow": {
     "slide_type": "slide"
    }
   },
   "source": [
    "## Overall"
   ]
  },
  {
   "cell_type": "code",
   "execution_count": 5,
   "metadata": {
    "slideshow": {
     "slide_type": "skip"
    }
   },
   "outputs": [
    {
     "name": "stdout",
     "output_type": "stream",
     "text": [
      "['07-31-2017_annotation_stats.json', '08-07-2017_annotation_stats.json', '08-11-2017_annotation_stats.json']\n"
     ]
    }
   ],
   "source": [
    "# Read in all old files in archive as dictionary so I can pull info for timeseries\n",
    "import os, json\n",
    "import pandas as pd\n",
    "\n",
    "counter=0\n",
    "d={}\n",
    "path_to_json = '/Users/jeremyflattau/Desktop/QA_deliver/archive/'\n",
    "\n",
    "json_files = [pos_json for pos_json in os.listdir(path_to_json) if pos_json.endswith('.json')]\n",
    "print json_files  # for me this prints ['foo.json']\n",
    "\n",
    "for js in json_files:\n",
    "    with open(os.path.join(path_to_json, js)) as json_file:\n",
    "        # do something with your json; I'll just print\n",
    "        global counter\n",
    "        counter +=1\n",
    "        d[\"file{0}\".format(counter)]=json.load(json_file)       "
   ]
  },
  {
   "cell_type": "code",
   "execution_count": 6,
   "metadata": {
    "collapsed": true,
    "slideshow": {
     "slide_type": "skip"
    }
   },
   "outputs": [],
   "source": [
    "#Going to have to create a data frame including all data from dictionary\n",
    "#will have to create a function and a for loop to go through length of dictionary + new file data\n",
    "d['file1']['timestamp']\n",
    "len(d)\n",
    "ts=pd.DataFrame([])\n",
    "\n",
    "for x in d:\n",
    "    file_name=str(x)\n",
    "    ts=ts.append(json_normalize(d[file_name]), ignore_index=True);\n",
    "#starting_point=json_normalize(new)\n",
    "# Commenting this out for now to reduce duplicate -- I think this is right. \n",
    "#ts=ts.append(json_normalize(old), ignore_index=True)\n",
    "ts=ts.append(json_normalize(new), ignore_index=True)\n",
    "\n",
    "ts.sort_values('timestamp', inplace=True)\n",
    "ts['timestamp']=pd.to_datetime(ts['timestamp'], unit='s')"
   ]
  },
  {
   "cell_type": "code",
   "execution_count": 7,
   "metadata": {
    "slideshow": {
     "slide_type": "-"
    }
   },
   "outputs": [
    {
     "data": {
      "text/html": [
       "<script>requirejs.config({paths: { 'plotly': ['https://cdn.plot.ly/plotly-latest.min']},});if(!window.Plotly) {{require(['plotly'],function(plotly) {window.Plotly=plotly;});}}</script>"
      ],
      "text/vnd.plotly.v1+html": [
       "<script>requirejs.config({paths: { 'plotly': ['https://cdn.plot.ly/plotly-latest.min']},});if(!window.Plotly) {{require(['plotly'],function(plotly) {window.Plotly=plotly;});}}</script>"
      ]
     },
     "metadata": {},
     "output_type": "display_data"
    },
    {
     "data": {
      "application/vnd.plotly.v1+json": {
       "data": [
        {
         "fill": "tonexty",
         "hoverinfo": "x+text",
         "hoveron": "points",
         "line": {
          "color": "rgb(109, 163, 249)",
          "width": 2
         },
         "mode": "lines",
         "name": "Annotated Videos",
         "text": [
          "4631",
          "5876",
          "6535",
          "6535"
         ],
         "type": "scatter",
         "x": [
          "2017-07-31 06:15:01",
          "2017-08-07 18:12:00",
          "2017-08-11 06:15:02",
          "2017-08-14 06:15:01"
         ],
         "y": [
          4631,
          5876,
          6535,
          6535
         ]
        }
       ],
       "layout": {
        "autosize": false,
        "height": 350,
        "title": "Number of Annotated Video Clips Over Time",
        "width": 750,
        "xaxis": {
         "title": "Date"
        },
        "yaxis": {
         "title": "Number of Clips"
        }
       }
      },
      "text/html": [
       "<div id=\"91d69cba-ee39-4b80-ac0e-6b740ba234cd\" style=\"height: 350px; width: 750px;\" class=\"plotly-graph-div\"></div><script type=\"text/javascript\">require([\"plotly\"], function(Plotly) { window.PLOTLYENV=window.PLOTLYENV || {};window.PLOTLYENV.BASE_URL=\"https://plot.ly\";Plotly.newPlot(\"91d69cba-ee39-4b80-ac0e-6b740ba234cd\", [{\"name\": \"Annotated Videos\", \"text\": [\"4631\", \"5876\", \"6535\", \"6535\"], \"mode\": \"lines\", \"hoverinfo\": \"x+text\", \"y\": [4631, 5876, 6535, 6535], \"x\": [\"2017-07-31 06:15:01\", \"2017-08-07 18:12:00\", \"2017-08-11 06:15:02\", \"2017-08-14 06:15:01\"], \"line\": {\"color\": \"rgb(109, 163, 249)\", \"width\": 2}, \"type\": \"scatter\", \"hoveron\": \"points\", \"fill\": \"tonexty\"}], {\"autosize\": false, \"title\": \"Number of Annotated Video Clips Over Time\", \"yaxis\": {\"title\": \"Number of Clips\"}, \"height\": 350, \"width\": 750, \"xaxis\": {\"title\": \"Date\"}}, {\"linkText\": \"Export to plot.ly\", \"showLink\": true})});</script>"
      ],
      "text/vnd.plotly.v1+html": [
       "<div id=\"91d69cba-ee39-4b80-ac0e-6b740ba234cd\" style=\"height: 350px; width: 750px;\" class=\"plotly-graph-div\"></div><script type=\"text/javascript\">require([\"plotly\"], function(Plotly) { window.PLOTLYENV=window.PLOTLYENV || {};window.PLOTLYENV.BASE_URL=\"https://plot.ly\";Plotly.newPlot(\"91d69cba-ee39-4b80-ac0e-6b740ba234cd\", [{\"name\": \"Annotated Videos\", \"text\": [\"4631\", \"5876\", \"6535\", \"6535\"], \"mode\": \"lines\", \"hoverinfo\": \"x+text\", \"y\": [4631, 5876, 6535, 6535], \"x\": [\"2017-07-31 06:15:01\", \"2017-08-07 18:12:00\", \"2017-08-11 06:15:02\", \"2017-08-14 06:15:01\"], \"line\": {\"color\": \"rgb(109, 163, 249)\", \"width\": 2}, \"type\": \"scatter\", \"hoveron\": \"points\", \"fill\": \"tonexty\"}], {\"autosize\": false, \"title\": \"Number of Annotated Video Clips Over Time\", \"yaxis\": {\"title\": \"Number of Clips\"}, \"height\": 350, \"width\": 750, \"xaxis\": {\"title\": \"Date\"}}, {\"linkText\": \"Export to plot.ly\", \"showLink\": true})});</script>"
      ]
     },
     "metadata": {},
     "output_type": "display_data"
    }
   ],
   "source": [
    "# Overall - Time series - Number of videos annotated week by week\n",
    "import plotly.plotly as py\n",
    "import plotly.graph_objs as go\n",
    "import plotly.offline\n",
    "from plotly.offline import init_notebook_mode, iplot\n",
    "from operator import truediv\n",
    "\n",
    "init_notebook_mode(connected=True)   \n",
    "\n",
    "\n",
    "# Add original data\n",
    "x=ts['timestamp'].tolist()\n",
    "\n",
    "y0_org=ts['video_count'].tolist()\n",
    "\n",
    "# Add data to create cumulative stacked values\n",
    "y0_stck=y0_org\n",
    "\n",
    "# Create proper percentages for proportion of graph\n",
    "y0_perc_gra=y0_stck\n",
    "\n",
    "# Make original values strings and add % for hover text\n",
    "y0_txt=[str(y0) for y0 in y0_perc_gra]\n",
    "\n",
    "ann = go.Scatter(\n",
    "    x=x,\n",
    "    y=y0_stck,\n",
    "    text=y0_txt,\n",
    "    hoverinfo='x+text',\n",
    "    hoveron='points',\n",
    "    mode='lines',\n",
    "    line=dict(width=2,\n",
    "              color='rgb(109, 163, 249)'),\n",
    "    fill='tonexty',\n",
    "    name='Annotated Videos'\n",
    ")\n",
    "\n",
    "data = [ann]\n",
    "\n",
    "\n",
    "layout = go.Layout(\n",
    "    autosize=False,\n",
    "    width=750,\n",
    "    height=350,\n",
    "    title='Number of Annotated Video Clips Over Time',\n",
    "    xaxis=dict(\n",
    "        title='Date'),\n",
    "    yaxis=dict(\n",
    "        title='Number of Clips'),\n",
    "    )\n",
    "fig = go.Figure(data=data, layout=layout)\n",
    "\n",
    "iplot(fig)"
   ]
  },
  {
   "cell_type": "code",
   "execution_count": 8,
   "metadata": {
    "slideshow": {
     "slide_type": "-"
    }
   },
   "outputs": [
    {
     "data": {
      "text/markdown": [
       "Number of annotated clips: 6535 (+0 since last week)"
      ],
      "text/plain": [
       "<IPython.core.display.Markdown object>"
      ]
     },
     "metadata": {},
     "output_type": "display_data"
    }
   ],
   "source": [
    "# Overall - By the numbers - Number of videos annotated week by week\n",
    "\n",
    "from IPython.display import display, Markdown, Latex\n",
    "\n",
    "# Total number of clips annotated - \n",
    "total_clips_annotated = new['video_count']\n",
    "\n",
    "# New clips last week\n",
    "new_clips=new['video_count']-old['video_count']\n",
    "\n",
    "tot_clips=(\"Number of annotated clips: %d (+%d since last week)\" % (total_clips_annotated,new_clips))\n",
    "\n",
    "display(Markdown(tot_clips))"
   ]
  },
  {
   "cell_type": "code",
   "execution_count": 9,
   "metadata": {
    "slideshow": {
     "slide_type": "slide"
    }
   },
   "outputs": [
    {
     "data": {
      "text/html": [
       "<script>requirejs.config({paths: { 'plotly': ['https://cdn.plot.ly/plotly-latest.min']},});if(!window.Plotly) {{require(['plotly'],function(plotly) {window.Plotly=plotly;});}}</script>"
      ],
      "text/vnd.plotly.v1+html": [
       "<script>requirejs.config({paths: { 'plotly': ['https://cdn.plot.ly/plotly-latest.min']},});if(!window.Plotly) {{require(['plotly'],function(plotly) {window.Plotly=plotly;});}}</script>"
      ]
     },
     "metadata": {},
     "output_type": "display_data"
    },
    {
     "data": {
      "application/vnd.plotly.v1+json": {
       "data": [
        {
         "fill": "tonexty",
         "hoverinfo": "x+text",
         "line": {
          "color": "rgb(131, 90, 241)",
          "width": 1
         },
         "mode": "lines",
         "name": "Donated Videos",
         "text": [
          "95%",
          "90%",
          "88%",
          "89%"
         ],
         "type": "scatter",
         "x": [
          "2017-07-31 06:15:01",
          "2017-08-07 18:12:00",
          "2017-08-11 06:15:02",
          "2017-08-14 06:15:01"
         ],
         "y": [
          14465,
          14465,
          14465,
          18058
         ]
        },
        {
         "fill": "tonexty",
         "hoverinfo": "x+text",
         "line": {
          "color": "rgb(111, 231, 219)",
          "width": 1
         },
         "mode": "lines",
         "name": "Free Videos",
         "text": [
          "4%",
          "9%",
          "11%",
          "10%"
         ],
         "type": "scatter",
         "x": [
          "2017-07-31 06:15:01",
          "2017-08-07 18:12:00",
          "2017-08-11 06:15:02",
          "2017-08-14 06:15:01"
         ],
         "y": [
          15157,
          15929,
          16321,
          20247
         ]
        }
       ],
       "layout": {
        "autosize": false,
        "height": 350,
        "title": "Free Camera vs Donate Video Clips Over Time Presented as a Count and Proportion",
        "width": 750,
        "xaxis": {
         "title": "Date"
        },
        "yaxis": {
         "title": "Number of Clips"
        }
       }
      },
      "text/html": [
       "<div id=\"cc96a3f5-a4ae-4364-ac6d-5e5ebb325f00\" style=\"height: 350px; width: 750px;\" class=\"plotly-graph-div\"></div><script type=\"text/javascript\">require([\"plotly\"], function(Plotly) { window.PLOTLYENV=window.PLOTLYENV || {};window.PLOTLYENV.BASE_URL=\"https://plot.ly\";Plotly.newPlot(\"cc96a3f5-a4ae-4364-ac6d-5e5ebb325f00\", [{\"name\": \"Donated Videos\", \"text\": [\"95%\", \"90%\", \"88%\", \"89%\"], \"mode\": \"lines\", \"hoverinfo\": \"x+text\", \"y\": [14465, 14465, 14465, 18058], \"x\": [\"2017-07-31 06:15:01\", \"2017-08-07 18:12:00\", \"2017-08-11 06:15:02\", \"2017-08-14 06:15:01\"], \"line\": {\"color\": \"rgb(131, 90, 241)\", \"width\": 1}, \"type\": \"scatter\", \"fill\": \"tonexty\"}, {\"name\": \"Free Videos\", \"text\": [\"4%\", \"9%\", \"11%\", \"10%\"], \"mode\": \"lines\", \"hoverinfo\": \"x+text\", \"y\": [15157, 15929, 16321, 20247], \"x\": [\"2017-07-31 06:15:01\", \"2017-08-07 18:12:00\", \"2017-08-11 06:15:02\", \"2017-08-14 06:15:01\"], \"line\": {\"color\": \"rgb(111, 231, 219)\", \"width\": 1}, \"type\": \"scatter\", \"fill\": \"tonexty\"}], {\"autosize\": false, \"title\": \"Free Camera vs Donate Video Clips Over Time Presented as a Count and Proportion\", \"yaxis\": {\"title\": \"Number of Clips\"}, \"height\": 350, \"width\": 750, \"xaxis\": {\"title\": \"Date\"}}, {\"linkText\": \"Export to plot.ly\", \"showLink\": true})});</script>"
      ],
      "text/vnd.plotly.v1+html": [
       "<div id=\"cc96a3f5-a4ae-4364-ac6d-5e5ebb325f00\" style=\"height: 350px; width: 750px;\" class=\"plotly-graph-div\"></div><script type=\"text/javascript\">require([\"plotly\"], function(Plotly) { window.PLOTLYENV=window.PLOTLYENV || {};window.PLOTLYENV.BASE_URL=\"https://plot.ly\";Plotly.newPlot(\"cc96a3f5-a4ae-4364-ac6d-5e5ebb325f00\", [{\"name\": \"Donated Videos\", \"text\": [\"95%\", \"90%\", \"88%\", \"89%\"], \"mode\": \"lines\", \"hoverinfo\": \"x+text\", \"y\": [14465, 14465, 14465, 18058], \"x\": [\"2017-07-31 06:15:01\", \"2017-08-07 18:12:00\", \"2017-08-11 06:15:02\", \"2017-08-14 06:15:01\"], \"line\": {\"color\": \"rgb(131, 90, 241)\", \"width\": 1}, \"type\": \"scatter\", \"fill\": \"tonexty\"}, {\"name\": \"Free Videos\", \"text\": [\"4%\", \"9%\", \"11%\", \"10%\"], \"mode\": \"lines\", \"hoverinfo\": \"x+text\", \"y\": [15157, 15929, 16321, 20247], \"x\": [\"2017-07-31 06:15:01\", \"2017-08-07 18:12:00\", \"2017-08-11 06:15:02\", \"2017-08-14 06:15:01\"], \"line\": {\"color\": \"rgb(111, 231, 219)\", \"width\": 1}, \"type\": \"scatter\", \"fill\": \"tonexty\"}], {\"autosize\": false, \"title\": \"Free Camera vs Donate Video Clips Over Time Presented as a Count and Proportion\", \"yaxis\": {\"title\": \"Number of Clips\"}, \"height\": 350, \"width\": 750, \"xaxis\": {\"title\": \"Date\"}}, {\"linkText\": \"Export to plot.ly\", \"showLink\": true})});</script>"
      ]
     },
     "metadata": {},
     "output_type": "display_data"
    }
   ],
   "source": [
    "# Overall - Time series - Total clips by source (broken down by free/donated\n",
    "import plotly.plotly as py\n",
    "import plotly.graph_objs as go\n",
    "import plotly.offline\n",
    "from plotly.offline import init_notebook_mode, iplot\n",
    "from operator import truediv\n",
    "\n",
    "init_notebook_mode(connected=True)   \n",
    "\n",
    "\n",
    "# Add original data\n",
    "x=ts['timestamp'].tolist()\n",
    "\n",
    "y0_org=ts['donated_video_count'].tolist()\n",
    "y1_org=ts['free_video_count'].tolist()\n",
    "\n",
    "# Add data to create cumulative stacked values\n",
    "y0_stck=y0_org\n",
    "y1_stck=[y0+y1 for y0, y1 in zip(y0_org, y1_org)]\n",
    "\n",
    "# Create proper percentages for proportion of graph\n",
    "y0_perc_gra=map(truediv, y0_org, y1_stck)\n",
    "y0_perc_gra = [int(i * 100) for i in y0_perc_gra]\n",
    "\n",
    "y1_perc_gra=map(truediv, y1_org, y1_stck)\n",
    "y1_perc_gra = [int(i * 100) for i in y1_perc_gra]\n",
    "\n",
    "\n",
    "# Make original values strings and add % for hover text\n",
    "y0_txt=[str(y0)+'%' for y0 in y0_perc_gra]\n",
    "y1_txt=[str(y1)+'%' for y1 in y1_perc_gra]\n",
    "\n",
    "donated = go.Scatter(\n",
    "    x=x,\n",
    "    y=y0_stck,\n",
    "    text=y0_txt,\n",
    "    hoverinfo='x+text',\n",
    "    mode='lines',\n",
    "    line=dict(width=1,\n",
    "              color='rgb(131, 90, 241)'),\n",
    "    fill='tonexty',\n",
    "    name='Donated Videos'\n",
    ")\n",
    "free = go.Scatter(\n",
    "    x=x,\n",
    "    y=y1_stck,\n",
    "    text=y1_txt,\n",
    "    hoverinfo='x+text',\n",
    "    mode='lines',\n",
    "    line=dict(width=1,\n",
    "              color='rgb(111, 231, 219)'),\n",
    "    fill='tonexty',\n",
    "    name='Free Videos'\n",
    ")\n",
    "\n",
    "data = [donated, free]\n",
    "\n",
    "\n",
    "layout = go.Layout(\n",
    "    autosize=False,\n",
    "    width=750,\n",
    "    height=350,\n",
    "    title='Free Camera vs Donate Video Clips Over Time Presented as a Count and Proportion',\n",
    "    xaxis=dict(\n",
    "        title='Date'),\n",
    "    yaxis=dict(\n",
    "        title='Number of Clips'),\n",
    "    )\n",
    "fig = go.Figure(data=data, layout=layout)\n",
    "\n",
    "iplot(fig)"
   ]
  },
  {
   "cell_type": "code",
   "execution_count": 10,
   "metadata": {
    "slideshow": {
     "slide_type": "-"
    }
   },
   "outputs": [
    {
     "data": {
      "text/markdown": [
       "Number of donated clips: 18058 (+3593 since last week)"
      ],
      "text/plain": [
       "<IPython.core.display.Markdown object>"
      ]
     },
     "metadata": {},
     "output_type": "display_data"
    },
    {
     "data": {
      "text/markdown": [
       "Number of free camera clips: 2189 (+333 since last week)"
      ],
      "text/plain": [
       "<IPython.core.display.Markdown object>"
      ]
     },
     "metadata": {},
     "output_type": "display_data"
    }
   ],
   "source": [
    "# Overall - By the numbers - Total clips by source (broken down by free/donated)\n",
    "\n",
    "from IPython.display import display, Markdown, Latex\n",
    "\n",
    "# New clips last 30 days - GOING TO HAVE TO STORE OLD STATS \n",
    "\n",
    "# Total number of clips we have (annotated plus unannotated) - GOING TO HAVE TO TALK TO DAVID ABOUT THIS\n",
    "\n",
    "# Number of clips donated versus how many come from the free cams\n",
    "donated_clips=new['donated_video_count']\n",
    "donated_difference=new['donated_video_count']-old['donated_video_count']\n",
    "\n",
    "free_clips=new['free_video_count']\n",
    "free_difference=new['free_video_count']-old['free_video_count']\n",
    "\n",
    "don_clips=(\"Number of donated clips: %d (+%d since last week)\" % (donated_clips,donated_difference))\n",
    "fr_clips=(\"Number of free camera clips: %d (+%d since last week)\" % (free_clips,free_difference))\n",
    "\n",
    "display(Markdown(don_clips))\n",
    "display(Markdown(fr_clips))"
   ]
  },
  {
   "cell_type": "markdown",
   "metadata": {
    "slideshow": {
     "slide_type": "slide"
    }
   },
   "source": [
    "## Human Statistics"
   ]
  },
  {
   "cell_type": "code",
   "execution_count": 11,
   "metadata": {
    "slideshow": {
     "slide_type": "-"
    }
   },
   "outputs": [
    {
     "data": {
      "text/html": [
       "<script>requirejs.config({paths: { 'plotly': ['https://cdn.plot.ly/plotly-latest.min']},});if(!window.Plotly) {{require(['plotly'],function(plotly) {window.Plotly=plotly;});}}</script>"
      ],
      "text/vnd.plotly.v1+html": [
       "<script>requirejs.config({paths: { 'plotly': ['https://cdn.plot.ly/plotly-latest.min']},});if(!window.Plotly) {{require(['plotly'],function(plotly) {window.Plotly=plotly;});}}</script>"
      ]
     },
     "metadata": {},
     "output_type": "display_data"
    },
    {
     "data": {
      "application/vnd.plotly.v1+json": {
       "data": [
        {
         "fill": "tonexty",
         "hoverinfo": "x+text",
         "line": {
          "color": "rgb(109, 163, 249)",
          "width": 2
         },
         "mode": "lines",
         "name": "Videos With People",
         "text": [
          "1808",
          "2650",
          "2817",
          "2817"
         ],
         "type": "scatter",
         "x": [
          "2017-07-31 06:15:01",
          "2017-08-07 18:12:00",
          "2017-08-11 06:15:02",
          "2017-08-14 06:15:01"
         ],
         "y": [
          1808,
          2650,
          2817,
          2817
         ]
        },
        {
         "fill": "tonexty",
         "hoverinfo": "x+text",
         "line": {
          "color": "rgb(242, 204, 109)",
          "width": 2
         },
         "mode": "lines",
         "name": "People Tracks in Videos",
         "text": [
          "2575",
          "3830",
          "4065",
          "4065"
         ],
         "type": "scatter",
         "x": [
          "2017-07-31 06:15:01",
          "2017-08-07 18:12:00",
          "2017-08-11 06:15:02",
          "2017-08-14 06:15:01"
         ],
         "y": [
          2575,
          3830,
          4065,
          4065
         ]
        }
       ],
       "layout": {
        "autosize": false,
        "height": 350,
        "title": "Videos With People and People Tracks in Videos Over Time",
        "width": 750,
        "xaxis": {
         "title": "Date"
        },
        "yaxis": {
         "title": "Count"
        }
       }
      },
      "text/html": [
       "<div id=\"215eb8ad-6df3-4d6b-ba86-8eba80ea98bf\" style=\"height: 350px; width: 750px;\" class=\"plotly-graph-div\"></div><script type=\"text/javascript\">require([\"plotly\"], function(Plotly) { window.PLOTLYENV=window.PLOTLYENV || {};window.PLOTLYENV.BASE_URL=\"https://plot.ly\";Plotly.newPlot(\"215eb8ad-6df3-4d6b-ba86-8eba80ea98bf\", [{\"name\": \"Videos With People\", \"text\": [\"1808\", \"2650\", \"2817\", \"2817\"], \"mode\": \"lines\", \"hoverinfo\": \"x+text\", \"y\": [1808, 2650, 2817, 2817], \"x\": [\"2017-07-31 06:15:01\", \"2017-08-07 18:12:00\", \"2017-08-11 06:15:02\", \"2017-08-14 06:15:01\"], \"line\": {\"color\": \"rgb(109, 163, 249)\", \"width\": 2}, \"type\": \"scatter\", \"fill\": \"tonexty\"}, {\"name\": \"People Tracks in Videos\", \"text\": [\"2575\", \"3830\", \"4065\", \"4065\"], \"mode\": \"lines\", \"hoverinfo\": \"x+text\", \"y\": [2575, 3830, 4065, 4065], \"x\": [\"2017-07-31 06:15:01\", \"2017-08-07 18:12:00\", \"2017-08-11 06:15:02\", \"2017-08-14 06:15:01\"], \"line\": {\"color\": \"rgb(242, 204, 109)\", \"width\": 2}, \"type\": \"scatter\", \"fill\": \"tonexty\"}], {\"autosize\": false, \"title\": \"Videos With People and People Tracks in Videos Over Time\", \"yaxis\": {\"title\": \"Count\"}, \"height\": 350, \"width\": 750, \"xaxis\": {\"title\": \"Date\"}}, {\"linkText\": \"Export to plot.ly\", \"showLink\": true})});</script>"
      ],
      "text/vnd.plotly.v1+html": [
       "<div id=\"215eb8ad-6df3-4d6b-ba86-8eba80ea98bf\" style=\"height: 350px; width: 750px;\" class=\"plotly-graph-div\"></div><script type=\"text/javascript\">require([\"plotly\"], function(Plotly) { window.PLOTLYENV=window.PLOTLYENV || {};window.PLOTLYENV.BASE_URL=\"https://plot.ly\";Plotly.newPlot(\"215eb8ad-6df3-4d6b-ba86-8eba80ea98bf\", [{\"name\": \"Videos With People\", \"text\": [\"1808\", \"2650\", \"2817\", \"2817\"], \"mode\": \"lines\", \"hoverinfo\": \"x+text\", \"y\": [1808, 2650, 2817, 2817], \"x\": [\"2017-07-31 06:15:01\", \"2017-08-07 18:12:00\", \"2017-08-11 06:15:02\", \"2017-08-14 06:15:01\"], \"line\": {\"color\": \"rgb(109, 163, 249)\", \"width\": 2}, \"type\": \"scatter\", \"fill\": \"tonexty\"}, {\"name\": \"People Tracks in Videos\", \"text\": [\"2575\", \"3830\", \"4065\", \"4065\"], \"mode\": \"lines\", \"hoverinfo\": \"x+text\", \"y\": [2575, 3830, 4065, 4065], \"x\": [\"2017-07-31 06:15:01\", \"2017-08-07 18:12:00\", \"2017-08-11 06:15:02\", \"2017-08-14 06:15:01\"], \"line\": {\"color\": \"rgb(242, 204, 109)\", \"width\": 2}, \"type\": \"scatter\", \"fill\": \"tonexty\"}], {\"autosize\": false, \"title\": \"Videos With People and People Tracks in Videos Over Time\", \"yaxis\": {\"title\": \"Count\"}, \"height\": 350, \"width\": 750, \"xaxis\": {\"title\": \"Date\"}}, {\"linkText\": \"Export to plot.ly\", \"showLink\": true})});</script>"
      ]
     },
     "metadata": {},
     "output_type": "display_data"
    }
   ],
   "source": [
    "init_notebook_mode(connected=True)   \n",
    "\n",
    "\n",
    "# Add original data\n",
    "x=ts['timestamp'].tolist()\n",
    "\n",
    "y0_org=ts['video_counts.person'].tolist()\n",
    "y1_org=ts['individual_counts.person'].tolist()\n",
    "\n",
    "\n",
    "# Add data to create cumulative stacked values\n",
    "y0_stck=y0_org\n",
    "y1_stck=y1_org\n",
    "\n",
    "# Create proper percentages for proportion of graph\n",
    "y0_perc_gra=y0_stck\n",
    "y1_perc_gra=y1_stck\n",
    "\n",
    "\n",
    "# Make original values strings and add % for hover text\n",
    "y0_txt=[str(y0) for y0 in y0_perc_gra]\n",
    "y1_txt=[str(y1) for y1 in y1_perc_gra]\n",
    "\n",
    "\n",
    "per_clip = go.Scatter(\n",
    "    x=x,\n",
    "    y=y0_stck,\n",
    "    text=y0_txt,\n",
    "    hoverinfo='x+text',\n",
    "    mode='lines',\n",
    "    line=dict(width=2,\n",
    "              color='rgb(109, 163, 249)'),\n",
    "    fill='tonexty',\n",
    "    name='Videos With People'\n",
    ")\n",
    "\n",
    "per_track = go.Scatter(\n",
    "    x=x,\n",
    "    y=y1_stck,\n",
    "    text=y1_txt,\n",
    "    hoverinfo='x+text',\n",
    "    mode='lines',\n",
    "    line=dict(width=2,\n",
    "              color='rgb(242, 204, 109)'),\n",
    "    fill='tonexty',\n",
    "    name='People Tracks in Videos'\n",
    ")\n",
    "\n",
    "data = [per_clip, per_track]\n",
    "\n",
    "\n",
    "layout = go.Layout(\n",
    "    autosize=False,\n",
    "    width=750,\n",
    "    height=350,\n",
    "    title='Videos With People and People Tracks in Videos Over Time',\n",
    "    xaxis=dict(\n",
    "        title='Date'),\n",
    "    yaxis=dict(\n",
    "        title='Count'),\n",
    "    )\n",
    "fig = go.Figure(data=data, layout=layout)\n",
    "\n",
    "iplot(fig)"
   ]
  },
  {
   "cell_type": "code",
   "execution_count": 12,
   "metadata": {
    "slideshow": {
     "slide_type": "-"
    }
   },
   "outputs": [
    {
     "data": {
      "text/markdown": [
       "Number of annotated clips with people: 2817 (+0 since last week)"
      ],
      "text/plain": [
       "<IPython.core.display.Markdown object>"
      ]
     },
     "metadata": {},
     "output_type": "display_data"
    },
    {
     "data": {
      "text/markdown": [
       "Number of individuals annotated in clips: 4065 (+0 since last week)"
      ],
      "text/plain": [
       "<IPython.core.display.Markdown object>"
      ]
     },
     "metadata": {},
     "output_type": "display_data"
    },
    {
     "data": {
      "text/markdown": [
       "Percentage of clips with people in it: 43%"
      ],
      "text/plain": [
       "<IPython.core.display.Markdown object>"
      ]
     },
     "metadata": {},
     "output_type": "display_data"
    }
   ],
   "source": [
    "# Human Stas - By the numbers - Persons\n",
    "\n",
    "# total clips with people\n",
    "total_clips_w_people= person_clip\n",
    "\n",
    "# new clips with people this week\n",
    "person_clip_difference=person_clip-prev_person_clip\n",
    "\n",
    "# total people tracks across all annotated clips\n",
    "total_people_tracks=person_obj\n",
    "\n",
    "# new person tracks this week\n",
    "person_obj_difference=person_obj-prev_person_obj\n",
    "\n",
    "# percent of tracks with people\n",
    "percent_clips_w_people=(float(person_clip)/total_clips_annotated)*100\n",
    "\n",
    "\n",
    "tot_pep= (\"Number of annotated clips with people: %d (+%d since last week)\" % (total_clips_w_people,person_clip_difference))\n",
    "tot_ind_pep= (\"Number of individuals annotated in clips: %d (+%d since last week)\" % (total_people_tracks,person_obj_difference))\n",
    "pep_perc= (\"Percentage of clips with people in it: %d%%\" % (percent_clips_w_people))\n",
    "\n",
    "display(Markdown(tot_pep))\n",
    "display(Markdown(tot_ind_pep))\n",
    "display(Markdown(pep_perc))"
   ]
  },
  {
   "cell_type": "code",
   "execution_count": 13,
   "metadata": {
    "slideshow": {
     "slide_type": "slide"
    }
   },
   "outputs": [
    {
     "data": {
      "text/html": [
       "<script>requirejs.config({paths: { 'plotly': ['https://cdn.plot.ly/plotly-latest.min']},});if(!window.Plotly) {{require(['plotly'],function(plotly) {window.Plotly=plotly;});}}</script>"
      ],
      "text/vnd.plotly.v1+html": [
       "<script>requirejs.config({paths: { 'plotly': ['https://cdn.plot.ly/plotly-latest.min']},});if(!window.Plotly) {{require(['plotly'],function(plotly) {window.Plotly=plotly;});}}</script>"
      ]
     },
     "metadata": {},
     "output_type": "display_data"
    },
    {
     "data": {
      "application/vnd.plotly.v1+json": {
       "data": [
        {
         "fill": "tonexty",
         "hoverinfo": "x+text",
         "line": {
          "color": "rgb(109, 163, 249)",
          "width": 2
         },
         "mode": "lines",
         "name": "Videos With People",
         "text": [
          "1808",
          "2650",
          "2817",
          "2817"
         ],
         "type": "scatter",
         "x": [
          "2017-07-31 06:15:01",
          "2017-08-07 18:12:00",
          "2017-08-11 06:15:02",
          "2017-08-14 06:15:01"
         ],
         "y": [
          1808,
          2650,
          2817,
          2817
         ]
        },
        {
         "fill": "tonexty",
         "hoverinfo": "x+text",
         "line": {
          "color": "rgb(241, 144, 109)",
          "width": 2
         },
         "mode": "lines",
         "name": "Face Tracks in Videos",
         "text": [
          "1905",
          "3154",
          "3325",
          "3325"
         ],
         "type": "scatter",
         "x": [
          "2017-07-31 06:15:01",
          "2017-08-07 18:12:00",
          "2017-08-11 06:15:02",
          "2017-08-14 06:15:01"
         ],
         "y": [
          1905,
          3154,
          3325,
          3325
         ]
        }
       ],
       "layout": {
        "autosize": false,
        "height": 400,
        "title": "Videos With People and Face Tracks in Videos Over Time",
        "width": 750,
        "xaxis": {
         "title": "Date"
        },
        "yaxis": {
         "title": "Count"
        }
       }
      },
      "text/html": [
       "<div id=\"cb6c9d43-cd58-4f35-b275-7e0c6c5f1fcb\" style=\"height: 400px; width: 750px;\" class=\"plotly-graph-div\"></div><script type=\"text/javascript\">require([\"plotly\"], function(Plotly) { window.PLOTLYENV=window.PLOTLYENV || {};window.PLOTLYENV.BASE_URL=\"https://plot.ly\";Plotly.newPlot(\"cb6c9d43-cd58-4f35-b275-7e0c6c5f1fcb\", [{\"name\": \"Videos With People\", \"text\": [\"1808\", \"2650\", \"2817\", \"2817\"], \"mode\": \"lines\", \"hoverinfo\": \"x+text\", \"y\": [1808, 2650, 2817, 2817], \"x\": [\"2017-07-31 06:15:01\", \"2017-08-07 18:12:00\", \"2017-08-11 06:15:02\", \"2017-08-14 06:15:01\"], \"line\": {\"color\": \"rgb(109, 163, 249)\", \"width\": 2}, \"type\": \"scatter\", \"fill\": \"tonexty\"}, {\"name\": \"Face Tracks in Videos\", \"text\": [\"1905\", \"3154\", \"3325\", \"3325\"], \"mode\": \"lines\", \"hoverinfo\": \"x+text\", \"y\": [1905, 3154, 3325, 3325], \"x\": [\"2017-07-31 06:15:01\", \"2017-08-07 18:12:00\", \"2017-08-11 06:15:02\", \"2017-08-14 06:15:01\"], \"line\": {\"color\": \"rgb(241, 144, 109)\", \"width\": 2}, \"type\": \"scatter\", \"fill\": \"tonexty\"}], {\"autosize\": false, \"title\": \"Videos With People and Face Tracks in Videos Over Time\", \"yaxis\": {\"title\": \"Count\"}, \"height\": 400, \"width\": 750, \"xaxis\": {\"title\": \"Date\"}}, {\"linkText\": \"Export to plot.ly\", \"showLink\": true})});</script>"
      ],
      "text/vnd.plotly.v1+html": [
       "<div id=\"cb6c9d43-cd58-4f35-b275-7e0c6c5f1fcb\" style=\"height: 400px; width: 750px;\" class=\"plotly-graph-div\"></div><script type=\"text/javascript\">require([\"plotly\"], function(Plotly) { window.PLOTLYENV=window.PLOTLYENV || {};window.PLOTLYENV.BASE_URL=\"https://plot.ly\";Plotly.newPlot(\"cb6c9d43-cd58-4f35-b275-7e0c6c5f1fcb\", [{\"name\": \"Videos With People\", \"text\": [\"1808\", \"2650\", \"2817\", \"2817\"], \"mode\": \"lines\", \"hoverinfo\": \"x+text\", \"y\": [1808, 2650, 2817, 2817], \"x\": [\"2017-07-31 06:15:01\", \"2017-08-07 18:12:00\", \"2017-08-11 06:15:02\", \"2017-08-14 06:15:01\"], \"line\": {\"color\": \"rgb(109, 163, 249)\", \"width\": 2}, \"type\": \"scatter\", \"fill\": \"tonexty\"}, {\"name\": \"Face Tracks in Videos\", \"text\": [\"1905\", \"3154\", \"3325\", \"3325\"], \"mode\": \"lines\", \"hoverinfo\": \"x+text\", \"y\": [1905, 3154, 3325, 3325], \"x\": [\"2017-07-31 06:15:01\", \"2017-08-07 18:12:00\", \"2017-08-11 06:15:02\", \"2017-08-14 06:15:01\"], \"line\": {\"color\": \"rgb(241, 144, 109)\", \"width\": 2}, \"type\": \"scatter\", \"fill\": \"tonexty\"}], {\"autosize\": false, \"title\": \"Videos With People and Face Tracks in Videos Over Time\", \"yaxis\": {\"title\": \"Count\"}, \"height\": 400, \"width\": 750, \"xaxis\": {\"title\": \"Date\"}}, {\"linkText\": \"Export to plot.ly\", \"showLink\": true})});</script>"
      ]
     },
     "metadata": {},
     "output_type": "display_data"
    }
   ],
   "source": [
    "init_notebook_mode(connected=True)   \n",
    "\n",
    "\n",
    "# Add original data\n",
    "x=ts['timestamp'].tolist()\n",
    "\n",
    "y0_org=ts['video_counts.person'].tolist()\n",
    "y1_org=ts['individual_counts.face'].tolist()\n",
    "\n",
    "\n",
    "# Add data to create cumulative stacked values\n",
    "y0_stck=y0_org\n",
    "y1_stck=y1_org\n",
    "\n",
    "# Create proper percentages for proportion of graph\n",
    "y0_perc_gra=y0_stck\n",
    "y1_perc_gra=y1_stck\n",
    "\n",
    "\n",
    "# Make original values strings and add % for hover text\n",
    "y0_txt=[str(y0) for y0 in y0_perc_gra]\n",
    "y1_txt=[str(y1) for y1 in y1_perc_gra]\n",
    "\n",
    "\n",
    "per_clip = go.Scatter(\n",
    "    x=x,\n",
    "    y=y0_stck,\n",
    "    text=y0_txt,\n",
    "    hoverinfo='x+text',\n",
    "    mode='lines',\n",
    "    line=dict(width=2,\n",
    "              color='rgb(109, 163, 249)'),\n",
    "    fill='tonexty',\n",
    "    name='Videos With People'\n",
    ")\n",
    "\n",
    "per_track = go.Scatter(\n",
    "    x=x,\n",
    "    y=y1_stck,\n",
    "    text=y1_txt,\n",
    "    hoverinfo='x+text',\n",
    "    mode='lines',\n",
    "    line=dict(width=2,\n",
    "              color='rgb(241, 144, 109)'),\n",
    "    fill='tonexty',\n",
    "    name='Face Tracks in Videos'\n",
    ")\n",
    "\n",
    "data = [per_clip, per_track]\n",
    "\n",
    "\n",
    "layout = go.Layout(\n",
    "    autosize=False,\n",
    "    width=750,\n",
    "    height=400,\n",
    "    title='Videos With People and Face Tracks in Videos Over Time',\n",
    "    xaxis=dict(\n",
    "        title='Date'),\n",
    "    yaxis=dict(\n",
    "        title='Count'),\n",
    "    )\n",
    "fig = go.Figure(data=data, layout=layout)\n",
    "\n",
    "iplot(fig)"
   ]
  },
  {
   "cell_type": "code",
   "execution_count": 14,
   "metadata": {
    "slideshow": {
     "slide_type": "-"
    }
   },
   "outputs": [
    {
     "data": {
      "text/markdown": [
       "Number of faces annotated in clips: 3325 (+0 since last week)"
      ],
      "text/plain": [
       "<IPython.core.display.Markdown object>"
      ]
     },
     "metadata": {},
     "output_type": "display_data"
    },
    {
     "data": {
      "text/markdown": [
       "Percentage of clips with faces in it: 36%"
      ],
      "text/plain": [
       "<IPython.core.display.Markdown object>"
      ]
     },
     "metadata": {},
     "output_type": "display_data"
    }
   ],
   "source": [
    "# Human Stas - By the numbers - Faces\n",
    "\n",
    "# total face tracks across all annotated clips\n",
    "total_face_tracks=face_obj\n",
    "\n",
    "# new face tracks this week\n",
    "face_obj_difference=face_obj-prev_face_obj\n",
    "\n",
    "# percent of tracks with people\n",
    "percent_clips_w_faces=(float(face_clip)/total_clips_annotated)*100\n",
    "\n",
    "tot_new_face= (\"Number of faces annotated in clips: %d (+%d since last week)\" % (total_face_tracks,face_obj_difference))\n",
    "face_perc= (\"Percentage of clips with faces in it: %d%%\" % (percent_clips_w_faces))\n",
    "\n",
    "display(Markdown(tot_new_face))\n",
    "display(Markdown(face_perc))"
   ]
  },
  {
   "cell_type": "markdown",
   "metadata": {
    "slideshow": {
     "slide_type": "slide"
    }
   },
   "source": [
    "## Vehicular Statistics"
   ]
  },
  {
   "cell_type": "code",
   "execution_count": 15,
   "metadata": {
    "slideshow": {
     "slide_type": "-"
    }
   },
   "outputs": [
    {
     "data": {
      "text/html": [
       "<script>requirejs.config({paths: { 'plotly': ['https://cdn.plot.ly/plotly-latest.min']},});if(!window.Plotly) {{require(['plotly'],function(plotly) {window.Plotly=plotly;});}}</script>"
      ],
      "text/vnd.plotly.v1+html": [
       "<script>requirejs.config({paths: { 'plotly': ['https://cdn.plot.ly/plotly-latest.min']},});if(!window.Plotly) {{require(['plotly'],function(plotly) {window.Plotly=plotly;});}}</script>"
      ]
     },
     "metadata": {},
     "output_type": "display_data"
    },
    {
     "data": {
      "application/vnd.plotly.v1+json": {
       "data": [
        {
         "fill": "tonexty",
         "hoverinfo": "x+text",
         "line": {
          "color": "rgb(131, 90, 241)",
          "width": 2
         },
         "mode": "lines",
         "name": "Car",
         "text": [
          "88%",
          "88%",
          "90%",
          "90%"
         ],
         "type": "scatter",
         "x": [
          "2017-07-31 06:15:01",
          "2017-08-07 18:12:00",
          "2017-08-11 06:15:02",
          "2017-08-14 06:15:01"
         ],
         "y": [
          1321,
          1516,
          2100,
          2100
         ]
        },
        {
         "fill": "tonexty",
         "hoverinfo": "x+text",
         "line": {
          "color": "rgb(244, 169, 19)",
          "width": 2
         },
         "mode": "lines",
         "name": "Bicycle",
         "text": [
          "2%",
          "2%",
          "2%",
          "2%"
         ],
         "type": "scatter",
         "x": [
          "2017-07-31 06:15:01",
          "2017-08-07 18:12:00",
          "2017-08-11 06:15:02",
          "2017-08-14 06:15:01"
         ],
         "y": [
          1357,
          1567,
          2163,
          2163
         ]
        },
        {
         "fill": "tonexty",
         "hoverinfo": "x+text",
         "line": {
          "color": "rgb(244, 240, 19)",
          "width": 2
         },
         "mode": "lines",
         "name": "Motorbike",
         "text": [
          "2%",
          "2%",
          "1%",
          "1%"
         ],
         "type": "scatter",
         "x": [
          "2017-07-31 06:15:01",
          "2017-08-07 18:12:00",
          "2017-08-11 06:15:02",
          "2017-08-14 06:15:01"
         ],
         "y": [
          1387,
          1603,
          2199,
          2199
         ]
        },
        {
         "fill": "tonexty",
         "hoverinfo": "x+text",
         "line": {
          "color": "rgb(60, 173, 43)",
          "width": 2
         },
         "mode": "lines",
         "name": "Truck",
         "text": [
          "6%",
          "5%",
          "5%",
          "5%"
         ],
         "type": "scatter",
         "x": [
          "2017-07-31 06:15:01",
          "2017-08-07 18:12:00",
          "2017-08-11 06:15:02",
          "2017-08-14 06:15:01"
         ],
         "y": [
          1481,
          1701,
          2319,
          2319
         ]
        },
        {
         "fill": "tonexty",
         "hoverinfo": "x+text",
         "line": {
          "color": "rgb(43, 173, 168)",
          "width": 2
         },
         "mode": "lines",
         "name": "Train",
         "text": [
          "0%",
          "0%",
          "0%",
          "0%"
         ],
         "type": "scatter",
         "x": [
          "2017-07-31 06:15:01",
          "2017-08-07 18:12:00",
          "2017-08-11 06:15:02",
          "2017-08-14 06:15:01"
         ],
         "y": [
          1481,
          1701,
          2319,
          2319
         ]
        },
        {
         "fill": "tonexty",
         "hoverinfo": "x+text",
         "line": {
          "color": "rgb(165, 170, 175)",
          "width": 2
         },
         "mode": "lines",
         "name": "Boat",
         "text": [
          "0%",
          "0%",
          "0%",
          "0%"
         ],
         "type": "scatter",
         "x": [
          "2017-07-31 06:15:01",
          "2017-08-07 18:12:00",
          "2017-08-11 06:15:02",
          "2017-08-14 06:15:01"
         ],
         "y": [
          1487,
          1705,
          2323,
          2323
         ]
        },
        {
         "fill": "tonexty",
         "hoverinfo": "x+text",
         "line": {
          "color": "rgb(249, 167, 167)",
          "width": 2
         },
         "mode": "lines",
         "name": "Airplane",
         "text": [
          "0%",
          "0%",
          "0%",
          "0%"
         ],
         "type": "scatter",
         "x": [
          "2017-07-31 06:15:01",
          "2017-08-07 18:12:00",
          "2017-08-11 06:15:02",
          "2017-08-14 06:15:01"
         ],
         "y": [
          1487,
          1705,
          2323,
          2323
         ]
        },
        {
         "fill": "tonexty",
         "hoverinfo": "x+text",
         "line": {
          "color": "rgb(34, 118, 214)",
          "width": 2
         },
         "mode": "lines",
         "name": "Bus",
         "text": [
          "1%",
          "1%",
          "1%",
          "1%"
         ],
         "type": "scatter",
         "x": [
          "2017-07-31 06:15:01",
          "2017-08-07 18:12:00",
          "2017-08-11 06:15:02",
          "2017-08-14 06:15:01"
         ],
         "y": [
          1509,
          1729,
          2347,
          2347
         ]
        }
       ],
       "layout": {
        "autosize": false,
        "height": 400,
        "title": "Clips Including a Given Vehicle Type Presented as a Count and Proportion",
        "width": 700,
        "xaxis": {
         "title": "Date"
        },
        "yaxis": {
         "title": "Number of Clips"
        }
       }
      },
      "text/html": [
       "<div id=\"ccc47bbf-ab2f-42b5-9f8f-d1aac822de0a\" style=\"height: 400px; width: 700px;\" class=\"plotly-graph-div\"></div><script type=\"text/javascript\">require([\"plotly\"], function(Plotly) { window.PLOTLYENV=window.PLOTLYENV || {};window.PLOTLYENV.BASE_URL=\"https://plot.ly\";Plotly.newPlot(\"ccc47bbf-ab2f-42b5-9f8f-d1aac822de0a\", [{\"name\": \"Car\", \"text\": [\"88%\", \"88%\", \"90%\", \"90%\"], \"mode\": \"lines\", \"hoverinfo\": \"x+text\", \"y\": [1321, 1516, 2100, 2100], \"x\": [\"2017-07-31 06:15:01\", \"2017-08-07 18:12:00\", \"2017-08-11 06:15:02\", \"2017-08-14 06:15:01\"], \"line\": {\"color\": \"rgb(131, 90, 241)\", \"width\": 2}, \"type\": \"scatter\", \"fill\": \"tonexty\"}, {\"name\": \"Bicycle\", \"text\": [\"2%\", \"2%\", \"2%\", \"2%\"], \"mode\": \"lines\", \"hoverinfo\": \"x+text\", \"y\": [1357, 1567, 2163, 2163], \"x\": [\"2017-07-31 06:15:01\", \"2017-08-07 18:12:00\", \"2017-08-11 06:15:02\", \"2017-08-14 06:15:01\"], \"line\": {\"color\": \"rgb(244, 169, 19)\", \"width\": 2}, \"type\": \"scatter\", \"fill\": \"tonexty\"}, {\"name\": \"Motorbike\", \"text\": [\"2%\", \"2%\", \"1%\", \"1%\"], \"mode\": \"lines\", \"hoverinfo\": \"x+text\", \"y\": [1387, 1603, 2199, 2199], \"x\": [\"2017-07-31 06:15:01\", \"2017-08-07 18:12:00\", \"2017-08-11 06:15:02\", \"2017-08-14 06:15:01\"], \"line\": {\"color\": \"rgb(244, 240, 19)\", \"width\": 2}, \"type\": \"scatter\", \"fill\": \"tonexty\"}, {\"name\": \"Truck\", \"text\": [\"6%\", \"5%\", \"5%\", \"5%\"], \"mode\": \"lines\", \"hoverinfo\": \"x+text\", \"y\": [1481, 1701, 2319, 2319], \"x\": [\"2017-07-31 06:15:01\", \"2017-08-07 18:12:00\", \"2017-08-11 06:15:02\", \"2017-08-14 06:15:01\"], \"line\": {\"color\": \"rgb(60, 173, 43)\", \"width\": 2}, \"type\": \"scatter\", \"fill\": \"tonexty\"}, {\"name\": \"Train\", \"text\": [\"0%\", \"0%\", \"0%\", \"0%\"], \"mode\": \"lines\", \"hoverinfo\": \"x+text\", \"y\": [1481, 1701, 2319, 2319], \"x\": [\"2017-07-31 06:15:01\", \"2017-08-07 18:12:00\", \"2017-08-11 06:15:02\", \"2017-08-14 06:15:01\"], \"line\": {\"color\": \"rgb(43, 173, 168)\", \"width\": 2}, \"type\": \"scatter\", \"fill\": \"tonexty\"}, {\"name\": \"Boat\", \"text\": [\"0%\", \"0%\", \"0%\", \"0%\"], \"mode\": \"lines\", \"hoverinfo\": \"x+text\", \"y\": [1487, 1705, 2323, 2323], \"x\": [\"2017-07-31 06:15:01\", \"2017-08-07 18:12:00\", \"2017-08-11 06:15:02\", \"2017-08-14 06:15:01\"], \"line\": {\"color\": \"rgb(165, 170, 175)\", \"width\": 2}, \"type\": \"scatter\", \"fill\": \"tonexty\"}, {\"name\": \"Airplane\", \"text\": [\"0%\", \"0%\", \"0%\", \"0%\"], \"mode\": \"lines\", \"hoverinfo\": \"x+text\", \"y\": [1487, 1705, 2323, 2323], \"x\": [\"2017-07-31 06:15:01\", \"2017-08-07 18:12:00\", \"2017-08-11 06:15:02\", \"2017-08-14 06:15:01\"], \"line\": {\"color\": \"rgb(249, 167, 167)\", \"width\": 2}, \"type\": \"scatter\", \"fill\": \"tonexty\"}, {\"name\": \"Bus\", \"text\": [\"1%\", \"1%\", \"1%\", \"1%\"], \"mode\": \"lines\", \"hoverinfo\": \"x+text\", \"y\": [1509, 1729, 2347, 2347], \"x\": [\"2017-07-31 06:15:01\", \"2017-08-07 18:12:00\", \"2017-08-11 06:15:02\", \"2017-08-14 06:15:01\"], \"line\": {\"color\": \"rgb(34, 118, 214)\", \"width\": 2}, \"type\": \"scatter\", \"fill\": \"tonexty\"}], {\"autosize\": false, \"title\": \"Clips Including a Given Vehicle Type Presented as a Count and Proportion\", \"yaxis\": {\"title\": \"Number of Clips\"}, \"height\": 400, \"width\": 700, \"xaxis\": {\"title\": \"Date\"}}, {\"linkText\": \"Export to plot.ly\", \"showLink\": true})});</script>"
      ],
      "text/vnd.plotly.v1+html": [
       "<div id=\"ccc47bbf-ab2f-42b5-9f8f-d1aac822de0a\" style=\"height: 400px; width: 700px;\" class=\"plotly-graph-div\"></div><script type=\"text/javascript\">require([\"plotly\"], function(Plotly) { window.PLOTLYENV=window.PLOTLYENV || {};window.PLOTLYENV.BASE_URL=\"https://plot.ly\";Plotly.newPlot(\"ccc47bbf-ab2f-42b5-9f8f-d1aac822de0a\", [{\"name\": \"Car\", \"text\": [\"88%\", \"88%\", \"90%\", \"90%\"], \"mode\": \"lines\", \"hoverinfo\": \"x+text\", \"y\": [1321, 1516, 2100, 2100], \"x\": [\"2017-07-31 06:15:01\", \"2017-08-07 18:12:00\", \"2017-08-11 06:15:02\", \"2017-08-14 06:15:01\"], \"line\": {\"color\": \"rgb(131, 90, 241)\", \"width\": 2}, \"type\": \"scatter\", \"fill\": \"tonexty\"}, {\"name\": \"Bicycle\", \"text\": [\"2%\", \"2%\", \"2%\", \"2%\"], \"mode\": \"lines\", \"hoverinfo\": \"x+text\", \"y\": [1357, 1567, 2163, 2163], \"x\": [\"2017-07-31 06:15:01\", \"2017-08-07 18:12:00\", \"2017-08-11 06:15:02\", \"2017-08-14 06:15:01\"], \"line\": {\"color\": \"rgb(244, 169, 19)\", \"width\": 2}, \"type\": \"scatter\", \"fill\": \"tonexty\"}, {\"name\": \"Motorbike\", \"text\": [\"2%\", \"2%\", \"1%\", \"1%\"], \"mode\": \"lines\", \"hoverinfo\": \"x+text\", \"y\": [1387, 1603, 2199, 2199], \"x\": [\"2017-07-31 06:15:01\", \"2017-08-07 18:12:00\", \"2017-08-11 06:15:02\", \"2017-08-14 06:15:01\"], \"line\": {\"color\": \"rgb(244, 240, 19)\", \"width\": 2}, \"type\": \"scatter\", \"fill\": \"tonexty\"}, {\"name\": \"Truck\", \"text\": [\"6%\", \"5%\", \"5%\", \"5%\"], \"mode\": \"lines\", \"hoverinfo\": \"x+text\", \"y\": [1481, 1701, 2319, 2319], \"x\": [\"2017-07-31 06:15:01\", \"2017-08-07 18:12:00\", \"2017-08-11 06:15:02\", \"2017-08-14 06:15:01\"], \"line\": {\"color\": \"rgb(60, 173, 43)\", \"width\": 2}, \"type\": \"scatter\", \"fill\": \"tonexty\"}, {\"name\": \"Train\", \"text\": [\"0%\", \"0%\", \"0%\", \"0%\"], \"mode\": \"lines\", \"hoverinfo\": \"x+text\", \"y\": [1481, 1701, 2319, 2319], \"x\": [\"2017-07-31 06:15:01\", \"2017-08-07 18:12:00\", \"2017-08-11 06:15:02\", \"2017-08-14 06:15:01\"], \"line\": {\"color\": \"rgb(43, 173, 168)\", \"width\": 2}, \"type\": \"scatter\", \"fill\": \"tonexty\"}, {\"name\": \"Boat\", \"text\": [\"0%\", \"0%\", \"0%\", \"0%\"], \"mode\": \"lines\", \"hoverinfo\": \"x+text\", \"y\": [1487, 1705, 2323, 2323], \"x\": [\"2017-07-31 06:15:01\", \"2017-08-07 18:12:00\", \"2017-08-11 06:15:02\", \"2017-08-14 06:15:01\"], \"line\": {\"color\": \"rgb(165, 170, 175)\", \"width\": 2}, \"type\": \"scatter\", \"fill\": \"tonexty\"}, {\"name\": \"Airplane\", \"text\": [\"0%\", \"0%\", \"0%\", \"0%\"], \"mode\": \"lines\", \"hoverinfo\": \"x+text\", \"y\": [1487, 1705, 2323, 2323], \"x\": [\"2017-07-31 06:15:01\", \"2017-08-07 18:12:00\", \"2017-08-11 06:15:02\", \"2017-08-14 06:15:01\"], \"line\": {\"color\": \"rgb(249, 167, 167)\", \"width\": 2}, \"type\": \"scatter\", \"fill\": \"tonexty\"}, {\"name\": \"Bus\", \"text\": [\"1%\", \"1%\", \"1%\", \"1%\"], \"mode\": \"lines\", \"hoverinfo\": \"x+text\", \"y\": [1509, 1729, 2347, 2347], \"x\": [\"2017-07-31 06:15:01\", \"2017-08-07 18:12:00\", \"2017-08-11 06:15:02\", \"2017-08-14 06:15:01\"], \"line\": {\"color\": \"rgb(34, 118, 214)\", \"width\": 2}, \"type\": \"scatter\", \"fill\": \"tonexty\"}], {\"autosize\": false, \"title\": \"Clips Including a Given Vehicle Type Presented as a Count and Proportion\", \"yaxis\": {\"title\": \"Number of Clips\"}, \"height\": 400, \"width\": 700, \"xaxis\": {\"title\": \"Date\"}}, {\"linkText\": \"Export to plot.ly\", \"showLink\": true})});</script>"
      ]
     },
     "metadata": {},
     "output_type": "display_data"
    }
   ],
   "source": [
    "# Vehicle clips\n",
    "init_notebook_mode(connected=True)   \n",
    "\n",
    "\n",
    "# Add original data\n",
    "x=ts['timestamp'].tolist()\n",
    "\n",
    "y0_org=ts['video_counts.car'].tolist()\n",
    "y1_org=ts['video_counts.bicycle'].tolist()\n",
    "y2_org=ts['video_counts.motorbike'].tolist()\n",
    "y3_org=ts['video_counts.truck'].tolist()\n",
    "y4_org=ts['video_counts.train'].tolist()\n",
    "y5_org=ts['video_counts.boat'].tolist()\n",
    "y6_org=ts['video_counts.airplane'].tolist()\n",
    "y7_org=ts['video_counts.bus'].tolist()\n",
    "\n",
    "\n",
    "# Add data to create cumulative stacked values\n",
    "y0_stck=y0_org\n",
    "y1_stck=[y0+y1 for y0, y1 in zip(y0_org, y1_org)]\n",
    "y2_stck=[y0+y1+y2 for y0, y1, y2 in zip(y0_org, y1_org,y2_org)]\n",
    "y3_stck=[y0+y1+y2+y3 for y0, y1, y2, y3 in zip(y0_org, y1_org,y2_org,y3_org)]\n",
    "y4_stck=[y0+y1+y2+y3+y4 for y0, y1, y2, y3,y4 in zip(y0_org, y1_org,y2_org,y3_org,y4_org)]\n",
    "y5_stck=[y0+y1+y2+y3+y4+y5 for y0, y1, y2, y3, y4, y5 in zip(y0_org, y1_org,y2_org,y3_org,y4_org,y5_org)]\n",
    "y6_stck=[y0+y1+y2+y3+y4+y5+y6 for y0, y1, y2, y3, y4, y5, y6 in zip(y0_org, y1_org,y2_org,y3_org,y4_org,y5_org,y6_org)]\n",
    "y7_stck=[y0+y1+y2+y3+y4+y5+y6+y7 for y0, y1, y2, y3, y4, y5, y6, y7 in zip(y0_org, y1_org,y2_org,y3_org,y4_org,y5_org,y6_org,y7_org)]\n",
    "\n",
    "\n",
    "# Create proper percentages for proportion of graph\n",
    "y0_perc_gra=map(truediv, y0_org, y6_stck)\n",
    "y0_perc_gra = [int(i * 100) for i in y0_perc_gra]\n",
    "\n",
    "y1_perc_gra=map(truediv, y1_org, y6_stck)\n",
    "y1_perc_gra = [int(i * 100) for i in y1_perc_gra]\n",
    "\n",
    "y2_perc_gra=map(truediv, y2_org, y6_stck)\n",
    "y2_perc_gra = [int(i * 100) for i in y2_perc_gra]\n",
    "\n",
    "y3_perc_gra=map(truediv, y3_org, y6_stck)\n",
    "y3_perc_gra = [int(i * 100) for i in y3_perc_gra]\n",
    "\n",
    "y4_perc_gra=map(truediv, y4_org, y6_stck)\n",
    "y4_perc_gra = [int(i * 100) for i in y4_perc_gra]\n",
    "\n",
    "y5_perc_gra=map(truediv, y5_org, y6_stck)\n",
    "y5_perc_gra = [int(i * 100) for i in y5_perc_gra]\n",
    "\n",
    "y6_perc_gra=map(truediv, y6_org, y6_stck)\n",
    "y6_perc_gra = [int(i * 100) for i in y6_perc_gra]\n",
    "\n",
    "y7_perc_gra=map(truediv, y7_org, y7_stck)\n",
    "y7_perc_gra = [int(i * 100) for i in y7_perc_gra]\n",
    "\n",
    "# Make original values strings and add % for hover text\n",
    "y0_txt=[str(y0)+'%' for y0 in y0_perc_gra]\n",
    "y1_txt=[str(y1)+'%' for y1 in y1_perc_gra]\n",
    "y2_txt=[str(y2)+'%' for y2 in y2_perc_gra]\n",
    "y3_txt=[str(y3)+'%' for y3 in y3_perc_gra]\n",
    "y4_txt=[str(y4)+'%' for y4 in y4_perc_gra]\n",
    "y5_txt=[str(y5)+'%' for y5 in y5_perc_gra]\n",
    "y6_txt=[str(y6)+'%' for y6 in y6_perc_gra]\n",
    "y7_txt=[str(y7)+'%' for y7 in y7_perc_gra]\n",
    "\n",
    "\n",
    "car = go.Scatter(\n",
    "    x=x,\n",
    "    y=y0_stck,\n",
    "    text=y0_txt,\n",
    "    hoverinfo='x+text',\n",
    "    mode='lines',\n",
    "    line=dict(width=2,\n",
    "              color='rgb(131, 90, 241)'),\n",
    "    fill='tonexty',\n",
    "    name='Car'\n",
    ")\n",
    "bicycle = go.Scatter(\n",
    "    x=x,\n",
    "    y=y1_stck,\n",
    "    text=y1_txt,\n",
    "    hoverinfo='x+text',\n",
    "    mode='lines',\n",
    "    line=dict(width=2,\n",
    "              color='rgb(244, 169, 19)'),\n",
    "    fill='tonexty',\n",
    "    name='Bicycle'\n",
    ")\n",
    "motorbike = go.Scatter(\n",
    "    x=x,\n",
    "    y=y2_stck,\n",
    "    text=y2_txt,\n",
    "    hoverinfo='x+text',\n",
    "    mode='lines',\n",
    "    line=dict(width=2,\n",
    "              color='rgb(244, 240, 19)'),\n",
    "    fill='tonexty',\n",
    "    name='Motorbike'\n",
    ")\n",
    "truck = go.Scatter(\n",
    "    x=x,\n",
    "    y=y3_stck,\n",
    "    text=y3_txt,\n",
    "    hoverinfo='x+text',\n",
    "    mode='lines',\n",
    "    line=dict(width=2,\n",
    "              color='rgb(60, 173, 43)'),\n",
    "    fill='tonexty',\n",
    "    name='Truck'\n",
    ")\n",
    "train = go.Scatter(\n",
    "    x=x,\n",
    "    y=y4_stck,\n",
    "    text=y4_txt,\n",
    "    hoverinfo='x+text',\n",
    "    mode='lines',\n",
    "    line=dict(width=2,\n",
    "              color='rgb(43, 173, 168)'),\n",
    "    fill='tonexty',\n",
    "    name='Train'\n",
    ")\n",
    "boat = go.Scatter(\n",
    "    x=x,\n",
    "    y=y5_stck,\n",
    "    text=y5_txt,\n",
    "    hoverinfo='x+text',\n",
    "    mode='lines',\n",
    "    line=dict(width=2,\n",
    "              color='rgb(165, 170, 175)'),\n",
    "    fill='tonexty',\n",
    "    name='Boat'\n",
    ")\n",
    "airplane = go.Scatter(\n",
    "    x=x,\n",
    "    y=y6_stck,\n",
    "    text=y6_txt,\n",
    "    hoverinfo='x+text',\n",
    "    mode='lines',\n",
    "    line=dict(width=2,\n",
    "              color='rgb(249, 167, 167)'),\n",
    "    fill='tonexty',\n",
    "    name='Airplane'\n",
    ")\n",
    "bus = go.Scatter(\n",
    "    x=x,\n",
    "    y=y7_stck,\n",
    "    text=y7_txt,\n",
    "    hoverinfo='x+text',\n",
    "    mode='lines',\n",
    "    line=dict(width=2,\n",
    "              color='rgb(34, 118, 214)'),\n",
    "    fill='tonexty',\n",
    "    name='Bus'\n",
    ")\n",
    "\n",
    "data = [car, bicycle, motorbike, truck, train, boat, airplane, bus]\n",
    "\n",
    "\n",
    "layout = go.Layout(\n",
    "    autosize=False,\n",
    "    width=700,\n",
    "    height=400,\n",
    "    title='Clips Including a Given Vehicle Type Presented as a Count and Proportion',\n",
    "    xaxis=dict(\n",
    "        title='Date'),\n",
    "    yaxis=dict(\n",
    "        title='Number of Clips'),\n",
    "    )\n",
    "fig = go.Figure(data=data, layout=layout)\n",
    "\n",
    "iplot(fig)"
   ]
  },
  {
   "cell_type": "code",
   "execution_count": 16,
   "metadata": {
    "slideshow": {
     "slide_type": "-"
    }
   },
   "outputs": [
    {
     "data": {
      "text/markdown": [
       "Number of annotated clips with vehicles: 2347 (+0 since last week)"
      ],
      "text/plain": [
       "<IPython.core.display.Markdown object>"
      ]
     },
     "metadata": {},
     "output_type": "display_data"
    },
    {
     "data": {
      "text/markdown": [
       "Percentage of clips with vehicles in it: 35%"
      ],
      "text/plain": [
       "<IPython.core.display.Markdown object>"
      ]
     },
     "metadata": {},
     "output_type": "display_data"
    }
   ],
   "source": [
    "# Vehicular Stats - By the numbers - Total clips by source (broken down by free/donated)\n",
    "\n",
    "# total clips with veh\n",
    "total_clips_w_veh= bicycle_clip+motorbike_clip+bus_clip+train_clip+truck_clip+car_clip+airplane_clip+boat_clip\n",
    "\n",
    "# new clips with veh this week\n",
    "veh_clip_difference= (bicycle_clip+motorbike_clip+bus_clip+train_clip+truck_clip+car_clip+airplane_clip+boat_clip)-(prev_bicycle_clip+prev_motorbike_clip+prev_bus_clip+prev_train_clip+prev_truck_clip+prev_car_clip+prev_airplane_clip+prev_boat_clip)\n",
    "\n",
    "# total bicycle tracks across all annotated clips\n",
    "total_bike_tracks= bicycle_obj\n",
    "\n",
    "# new bicycle tracks this week\n",
    "bike_obj_difference=bicycle_obj-prev_bicycle_obj\n",
    "\n",
    "# total car tracks across all annotated clips\n",
    "total_car_tracks=car_obj\n",
    "\n",
    "# new car tracks this week\n",
    "car_obj_difference=car_obj-prev_car_obj\n",
    "\n",
    "# percent of tracks with vehicles\n",
    "percent_clips_w_veh=(float(total_clips_w_veh)/total_clips_annotated)*100\n",
    "\n",
    "tot_veh= (\"Number of annotated clips with vehicles: %d (+%d since last week)\" % (total_clips_w_veh,veh_clip_difference))\n",
    "#tot_car= (\"Number of cars annotated in clips: %d (+%d since last week)\" % (total_car_tracks,car_obj_difference))\n",
    "#tot_bike= (\"Number of bicycles annotated in clips: %d (+%d since last week)\" % (total_bike_tracks,bike_obj_difference))\n",
    "veh_perc= (\"Percentage of clips with vehicles in it: %d%%\" % (percent_clips_w_veh))\n",
    "\n",
    "display(Markdown(tot_veh))\n",
    "#display(Markdown(tot_car))\n",
    "#display(Markdown(tot_bike))\n",
    "display(Markdown(veh_perc))"
   ]
  },
  {
   "cell_type": "code",
   "execution_count": 17,
   "metadata": {
    "slideshow": {
     "slide_type": "slide"
    }
   },
   "outputs": [
    {
     "data": {
      "text/html": [
       "<script>requirejs.config({paths: { 'plotly': ['https://cdn.plot.ly/plotly-latest.min']},});if(!window.Plotly) {{require(['plotly'],function(plotly) {window.Plotly=plotly;});}}</script>"
      ],
      "text/vnd.plotly.v1+html": [
       "<script>requirejs.config({paths: { 'plotly': ['https://cdn.plot.ly/plotly-latest.min']},});if(!window.Plotly) {{require(['plotly'],function(plotly) {window.Plotly=plotly;});}}</script>"
      ]
     },
     "metadata": {},
     "output_type": "display_data"
    },
    {
     "data": {
      "application/vnd.plotly.v1+json": {
       "data": [
        {
         "fill": "tonexty",
         "hoverinfo": "x+text",
         "line": {
          "color": "rgb(229, 178, 25)",
          "width": 2
         },
         "mode": "lines",
         "name": "Bicycle",
         "text": [
          "50",
          "74",
          "87",
          "87"
         ],
         "type": "scatter",
         "x": [
          "2017-07-31 06:15:01",
          "2017-08-07 18:12:00",
          "2017-08-11 06:15:02",
          "2017-08-14 06:15:01"
         ],
         "y": [
          50,
          74,
          87,
          87
         ]
        },
        {
         "fill": "tonexty",
         "hoverinfo": "x+text",
         "line": {
          "color": "rgb(244, 240, 19)",
          "width": 2
         },
         "mode": "lines",
         "name": "Motorbike",
         "text": [
          "51",
          "50",
          "50",
          "50"
         ],
         "type": "scatter",
         "x": [
          "2017-07-31 06:15:01",
          "2017-08-07 18:12:00",
          "2017-08-11 06:15:02",
          "2017-08-14 06:15:01"
         ],
         "y": [
          51,
          50,
          50,
          50
         ]
        },
        {
         "fill": "tonexty",
         "hoverinfo": "x+text",
         "line": {
          "color": "rgb(60, 173, 43)",
          "width": 2
         },
         "mode": "lines",
         "name": "Truck",
         "text": [
          "104",
          "114",
          "136",
          "136"
         ],
         "type": "scatter",
         "x": [
          "2017-07-31 06:15:01",
          "2017-08-07 18:12:00",
          "2017-08-11 06:15:02",
          "2017-08-14 06:15:01"
         ],
         "y": [
          104,
          114,
          136,
          136
         ]
        },
        {
         "fill": "tonexty",
         "hoverinfo": "x+text",
         "line": {
          "color": "rgb(43, 173, 168)",
          "width": 2
         },
         "mode": "lines",
         "name": "Train",
         "text": [
          "0",
          "0",
          "0",
          "0"
         ],
         "type": "scatter",
         "x": [
          "2017-07-31 06:15:01",
          "2017-08-07 18:12:00",
          "2017-08-11 06:15:02",
          "2017-08-14 06:15:01"
         ],
         "y": [
          0,
          0,
          0,
          0
         ]
        },
        {
         "fill": "tonexty",
         "hoverinfo": "x+text",
         "line": {
          "color": "rgb(165, 170, 175)",
          "width": 2
         },
         "mode": "lines",
         "name": "Boat",
         "text": [
          "12",
          "12",
          "12",
          "12"
         ],
         "type": "scatter",
         "x": [
          "2017-07-31 06:15:01",
          "2017-08-07 18:12:00",
          "2017-08-11 06:15:02",
          "2017-08-14 06:15:01"
         ],
         "y": [
          12,
          12,
          12,
          12
         ]
        },
        {
         "fill": "tonexty",
         "hoverinfo": "x+text",
         "line": {
          "color": "rgb(249, 167, 167)",
          "width": 2
         },
         "mode": "lines",
         "name": "Airplane",
         "text": [
          "0",
          "0",
          "0",
          "0"
         ],
         "type": "scatter",
         "x": [
          "2017-07-31 06:15:01",
          "2017-08-07 18:12:00",
          "2017-08-11 06:15:02",
          "2017-08-14 06:15:01"
         ],
         "y": [
          0,
          0,
          0,
          0
         ]
        },
        {
         "fill": "tonexty",
         "hoverinfo": "x+text",
         "line": {
          "color": "rgb(34, 118, 214)",
          "width": 2
         },
         "mode": "lines",
         "name": "Bus",
         "text": [
          "22",
          "24",
          "24",
          "24"
         ],
         "type": "scatter",
         "x": [
          "2017-07-31 06:15:01",
          "2017-08-07 18:12:00",
          "2017-08-11 06:15:02",
          "2017-08-14 06:15:01"
         ],
         "y": [
          22,
          24,
          24,
          24
         ]
        },
        {
         "fill": "tonexty",
         "hoverinfo": "x+text",
         "line": {
          "color": "rgb(168, 71, 247)",
          "width": 2
         },
         "mode": "lines",
         "name": "Car",
         "text": [
          "3867",
          "4475",
          "6302",
          "6302"
         ],
         "type": "scatter",
         "x": [
          "2017-07-31 06:15:01",
          "2017-08-07 18:12:00",
          "2017-08-11 06:15:02",
          "2017-08-14 06:15:01"
         ],
         "y": [
          3867,
          4475,
          6302,
          6302
         ]
        }
       ],
       "layout": {
        "autosize": false,
        "height": 400,
        "title": "Number of Tracks of a Given Vehicle Type Across Annotated Videos",
        "width": 700,
        "xaxis": {
         "title": "Date"
        },
        "yaxis": {
         "title": "Number of Tracks"
        }
       }
      },
      "text/html": [
       "<div id=\"265edb97-90be-4e2a-9ecf-75cab268d365\" style=\"height: 400px; width: 700px;\" class=\"plotly-graph-div\"></div><script type=\"text/javascript\">require([\"plotly\"], function(Plotly) { window.PLOTLYENV=window.PLOTLYENV || {};window.PLOTLYENV.BASE_URL=\"https://plot.ly\";Plotly.newPlot(\"265edb97-90be-4e2a-9ecf-75cab268d365\", [{\"name\": \"Bicycle\", \"text\": [\"50\", \"74\", \"87\", \"87\"], \"mode\": \"lines\", \"hoverinfo\": \"x+text\", \"y\": [50, 74, 87, 87], \"x\": [\"2017-07-31 06:15:01\", \"2017-08-07 18:12:00\", \"2017-08-11 06:15:02\", \"2017-08-14 06:15:01\"], \"line\": {\"color\": \"rgb(229, 178, 25)\", \"width\": 2}, \"type\": \"scatter\", \"fill\": \"tonexty\"}, {\"name\": \"Motorbike\", \"text\": [\"51\", \"50\", \"50\", \"50\"], \"mode\": \"lines\", \"hoverinfo\": \"x+text\", \"y\": [51, 50, 50, 50], \"x\": [\"2017-07-31 06:15:01\", \"2017-08-07 18:12:00\", \"2017-08-11 06:15:02\", \"2017-08-14 06:15:01\"], \"line\": {\"color\": \"rgb(244, 240, 19)\", \"width\": 2}, \"type\": \"scatter\", \"fill\": \"tonexty\"}, {\"name\": \"Truck\", \"text\": [\"104\", \"114\", \"136\", \"136\"], \"mode\": \"lines\", \"hoverinfo\": \"x+text\", \"y\": [104, 114, 136, 136], \"x\": [\"2017-07-31 06:15:01\", \"2017-08-07 18:12:00\", \"2017-08-11 06:15:02\", \"2017-08-14 06:15:01\"], \"line\": {\"color\": \"rgb(60, 173, 43)\", \"width\": 2}, \"type\": \"scatter\", \"fill\": \"tonexty\"}, {\"name\": \"Train\", \"text\": [\"0\", \"0\", \"0\", \"0\"], \"mode\": \"lines\", \"hoverinfo\": \"x+text\", \"y\": [0, 0, 0, 0], \"x\": [\"2017-07-31 06:15:01\", \"2017-08-07 18:12:00\", \"2017-08-11 06:15:02\", \"2017-08-14 06:15:01\"], \"line\": {\"color\": \"rgb(43, 173, 168)\", \"width\": 2}, \"type\": \"scatter\", \"fill\": \"tonexty\"}, {\"name\": \"Boat\", \"text\": [\"12\", \"12\", \"12\", \"12\"], \"mode\": \"lines\", \"hoverinfo\": \"x+text\", \"y\": [12, 12, 12, 12], \"x\": [\"2017-07-31 06:15:01\", \"2017-08-07 18:12:00\", \"2017-08-11 06:15:02\", \"2017-08-14 06:15:01\"], \"line\": {\"color\": \"rgb(165, 170, 175)\", \"width\": 2}, \"type\": \"scatter\", \"fill\": \"tonexty\"}, {\"name\": \"Airplane\", \"text\": [\"0\", \"0\", \"0\", \"0\"], \"mode\": \"lines\", \"hoverinfo\": \"x+text\", \"y\": [0, 0, 0, 0], \"x\": [\"2017-07-31 06:15:01\", \"2017-08-07 18:12:00\", \"2017-08-11 06:15:02\", \"2017-08-14 06:15:01\"], \"line\": {\"color\": \"rgb(249, 167, 167)\", \"width\": 2}, \"type\": \"scatter\", \"fill\": \"tonexty\"}, {\"name\": \"Bus\", \"text\": [\"22\", \"24\", \"24\", \"24\"], \"mode\": \"lines\", \"hoverinfo\": \"x+text\", \"y\": [22, 24, 24, 24], \"x\": [\"2017-07-31 06:15:01\", \"2017-08-07 18:12:00\", \"2017-08-11 06:15:02\", \"2017-08-14 06:15:01\"], \"line\": {\"color\": \"rgb(34, 118, 214)\", \"width\": 2}, \"type\": \"scatter\", \"fill\": \"tonexty\"}, {\"name\": \"Car\", \"text\": [\"3867\", \"4475\", \"6302\", \"6302\"], \"mode\": \"lines\", \"hoverinfo\": \"x+text\", \"y\": [3867, 4475, 6302, 6302], \"x\": [\"2017-07-31 06:15:01\", \"2017-08-07 18:12:00\", \"2017-08-11 06:15:02\", \"2017-08-14 06:15:01\"], \"line\": {\"color\": \"rgb(168, 71, 247)\", \"width\": 2}, \"type\": \"scatter\", \"fill\": \"tonexty\"}], {\"autosize\": false, \"title\": \"Number of Tracks of a Given Vehicle Type Across Annotated Videos\", \"yaxis\": {\"title\": \"Number of Tracks\"}, \"height\": 400, \"width\": 700, \"xaxis\": {\"title\": \"Date\"}}, {\"linkText\": \"Export to plot.ly\", \"showLink\": true})});</script>"
      ],
      "text/vnd.plotly.v1+html": [
       "<div id=\"265edb97-90be-4e2a-9ecf-75cab268d365\" style=\"height: 400px; width: 700px;\" class=\"plotly-graph-div\"></div><script type=\"text/javascript\">require([\"plotly\"], function(Plotly) { window.PLOTLYENV=window.PLOTLYENV || {};window.PLOTLYENV.BASE_URL=\"https://plot.ly\";Plotly.newPlot(\"265edb97-90be-4e2a-9ecf-75cab268d365\", [{\"name\": \"Bicycle\", \"text\": [\"50\", \"74\", \"87\", \"87\"], \"mode\": \"lines\", \"hoverinfo\": \"x+text\", \"y\": [50, 74, 87, 87], \"x\": [\"2017-07-31 06:15:01\", \"2017-08-07 18:12:00\", \"2017-08-11 06:15:02\", \"2017-08-14 06:15:01\"], \"line\": {\"color\": \"rgb(229, 178, 25)\", \"width\": 2}, \"type\": \"scatter\", \"fill\": \"tonexty\"}, {\"name\": \"Motorbike\", \"text\": [\"51\", \"50\", \"50\", \"50\"], \"mode\": \"lines\", \"hoverinfo\": \"x+text\", \"y\": [51, 50, 50, 50], \"x\": [\"2017-07-31 06:15:01\", \"2017-08-07 18:12:00\", \"2017-08-11 06:15:02\", \"2017-08-14 06:15:01\"], \"line\": {\"color\": \"rgb(244, 240, 19)\", \"width\": 2}, \"type\": \"scatter\", \"fill\": \"tonexty\"}, {\"name\": \"Truck\", \"text\": [\"104\", \"114\", \"136\", \"136\"], \"mode\": \"lines\", \"hoverinfo\": \"x+text\", \"y\": [104, 114, 136, 136], \"x\": [\"2017-07-31 06:15:01\", \"2017-08-07 18:12:00\", \"2017-08-11 06:15:02\", \"2017-08-14 06:15:01\"], \"line\": {\"color\": \"rgb(60, 173, 43)\", \"width\": 2}, \"type\": \"scatter\", \"fill\": \"tonexty\"}, {\"name\": \"Train\", \"text\": [\"0\", \"0\", \"0\", \"0\"], \"mode\": \"lines\", \"hoverinfo\": \"x+text\", \"y\": [0, 0, 0, 0], \"x\": [\"2017-07-31 06:15:01\", \"2017-08-07 18:12:00\", \"2017-08-11 06:15:02\", \"2017-08-14 06:15:01\"], \"line\": {\"color\": \"rgb(43, 173, 168)\", \"width\": 2}, \"type\": \"scatter\", \"fill\": \"tonexty\"}, {\"name\": \"Boat\", \"text\": [\"12\", \"12\", \"12\", \"12\"], \"mode\": \"lines\", \"hoverinfo\": \"x+text\", \"y\": [12, 12, 12, 12], \"x\": [\"2017-07-31 06:15:01\", \"2017-08-07 18:12:00\", \"2017-08-11 06:15:02\", \"2017-08-14 06:15:01\"], \"line\": {\"color\": \"rgb(165, 170, 175)\", \"width\": 2}, \"type\": \"scatter\", \"fill\": \"tonexty\"}, {\"name\": \"Airplane\", \"text\": [\"0\", \"0\", \"0\", \"0\"], \"mode\": \"lines\", \"hoverinfo\": \"x+text\", \"y\": [0, 0, 0, 0], \"x\": [\"2017-07-31 06:15:01\", \"2017-08-07 18:12:00\", \"2017-08-11 06:15:02\", \"2017-08-14 06:15:01\"], \"line\": {\"color\": \"rgb(249, 167, 167)\", \"width\": 2}, \"type\": \"scatter\", \"fill\": \"tonexty\"}, {\"name\": \"Bus\", \"text\": [\"22\", \"24\", \"24\", \"24\"], \"mode\": \"lines\", \"hoverinfo\": \"x+text\", \"y\": [22, 24, 24, 24], \"x\": [\"2017-07-31 06:15:01\", \"2017-08-07 18:12:00\", \"2017-08-11 06:15:02\", \"2017-08-14 06:15:01\"], \"line\": {\"color\": \"rgb(34, 118, 214)\", \"width\": 2}, \"type\": \"scatter\", \"fill\": \"tonexty\"}, {\"name\": \"Car\", \"text\": [\"3867\", \"4475\", \"6302\", \"6302\"], \"mode\": \"lines\", \"hoverinfo\": \"x+text\", \"y\": [3867, 4475, 6302, 6302], \"x\": [\"2017-07-31 06:15:01\", \"2017-08-07 18:12:00\", \"2017-08-11 06:15:02\", \"2017-08-14 06:15:01\"], \"line\": {\"color\": \"rgb(168, 71, 247)\", \"width\": 2}, \"type\": \"scatter\", \"fill\": \"tonexty\"}], {\"autosize\": false, \"title\": \"Number of Tracks of a Given Vehicle Type Across Annotated Videos\", \"yaxis\": {\"title\": \"Number of Tracks\"}, \"height\": 400, \"width\": 700, \"xaxis\": {\"title\": \"Date\"}}, {\"linkText\": \"Export to plot.ly\", \"showLink\": true})});</script>"
      ]
     },
     "metadata": {},
     "output_type": "display_data"
    }
   ],
   "source": [
    "# Vehicle tracks\n",
    "init_notebook_mode(connected=True)   \n",
    "\n",
    "\n",
    "# Add original data\n",
    "x=ts['timestamp'].tolist()\n",
    "\n",
    "y7_org=ts['individual_counts.car'].tolist()\n",
    "y1_org=ts['individual_counts.bicycle'].tolist()\n",
    "y2_org=ts['individual_counts.motorbike'].tolist()\n",
    "y3_org=ts['individual_counts.truck'].tolist()\n",
    "y4_org=ts['individual_counts.train'].tolist()\n",
    "y5_org=ts['individual_counts.boat'].tolist()\n",
    "y6_org=ts['individual_counts.airplane'].tolist()\n",
    "y0_org=ts['individual_counts.bus'].tolist()\n",
    "\n",
    "y0_stck=y0_org\n",
    "y1_stck=y1_org\n",
    "y2_stck=y2_org\n",
    "y3_stck=y3_org\n",
    "y4_stck=y4_org\n",
    "y5_stck=y5_org\n",
    "y6_stck=y6_org\n",
    "y7_stck=y7_org\n",
    "\n",
    "\n",
    "# Create proper percentages for proportion of graph\n",
    "y0_perc_gra=y0_stck\n",
    "y1_perc_gra=y1_stck\n",
    "y2_perc_gra=y2_stck\n",
    "y3_perc_gra=y3_stck\n",
    "y4_perc_gra=y4_stck\n",
    "y5_perc_gra=y5_stck\n",
    "y6_perc_gra=y6_stck\n",
    "y7_perc_gra=y7_stck\n",
    "\n",
    "\n",
    "\n",
    "# Make original values strings and add % for hover text\n",
    "y0_txt=[str(y0) for y0 in y0_perc_gra]\n",
    "y1_txt=[str(y1) for y1 in y1_perc_gra]\n",
    "y2_txt=[str(y2) for y2 in y2_perc_gra]\n",
    "y3_txt=[str(y3) for y3 in y3_perc_gra]\n",
    "y4_txt=[str(y4) for y4 in y4_perc_gra]\n",
    "y5_txt=[str(y5) for y5 in y5_perc_gra]\n",
    "y6_txt=[str(y6) for y6 in y6_perc_gra]\n",
    "y7_txt=[str(y7) for y7 in y7_perc_gra]\n",
    "\n",
    "\n",
    "bus = go.Scatter(\n",
    "    x=x,\n",
    "    y=y0_stck,\n",
    "    text=y0_txt,\n",
    "    hoverinfo='x+text',\n",
    "    mode='lines',\n",
    "    line=dict(width=2,\n",
    "              color='rgb(34, 118, 214)'),\n",
    "    fill='tonexty',\n",
    "    name='Bus'\n",
    ")\n",
    "bicycle = go.Scatter(\n",
    "    x=x,\n",
    "    y=y1_stck,\n",
    "    text=y1_txt,\n",
    "    hoverinfo='x+text',\n",
    "    mode='lines',\n",
    "    line=dict(width=2,\n",
    "              color='rgb(229, 178, 25)'),\n",
    "    fill='tonexty',\n",
    "    name='Bicycle'\n",
    ")\n",
    "motorbike = go.Scatter(\n",
    "    x=x,\n",
    "    y=y2_stck,\n",
    "    text=y2_txt,\n",
    "    hoverinfo='x+text',\n",
    "    mode='lines',\n",
    "    line=dict(width=2,\n",
    "              color='rgb(244, 240, 19)'),\n",
    "    fill='tonexty',\n",
    "    name='Motorbike'\n",
    ")\n",
    "truck = go.Scatter(\n",
    "    x=x,\n",
    "    y=y3_stck,\n",
    "    text=y3_txt,\n",
    "    hoverinfo='x+text',\n",
    "    mode='lines',\n",
    "    line=dict(width=2,\n",
    "              color='rgb(60, 173, 43)'),\n",
    "    fill='tonexty',\n",
    "    name='Truck'\n",
    ")\n",
    "train = go.Scatter(\n",
    "    x=x,\n",
    "    y=y4_stck,\n",
    "    text=y4_txt,\n",
    "    hoverinfo='x+text',\n",
    "    mode='lines',\n",
    "    line=dict(width=2,\n",
    "              color='rgb(43, 173, 168)'),\n",
    "    fill='tonexty',\n",
    "    name='Train'\n",
    ")\n",
    "boat = go.Scatter(\n",
    "    x=x,\n",
    "    y=y5_stck,\n",
    "    text=y5_txt,\n",
    "    hoverinfo='x+text',\n",
    "    mode='lines',\n",
    "    line=dict(width=2,\n",
    "              color='rgb(165, 170, 175)'),\n",
    "    fill='tonexty',\n",
    "    name='Boat'\n",
    ")\n",
    "airplane = go.Scatter(\n",
    "    x=x,\n",
    "    y=y6_stck,\n",
    "    text=y6_txt,\n",
    "    hoverinfo='x+text',\n",
    "    mode='lines',\n",
    "    line=dict(width=2,\n",
    "              color='rgb(249, 167, 167)'),\n",
    "    fill='tonexty',\n",
    "    name='Airplane'\n",
    ")\n",
    "car = go.Scatter(\n",
    "    x=x,\n",
    "    y=y7_stck,\n",
    "    text=y7_txt,\n",
    "    hoverinfo='x+text',\n",
    "    mode='lines',\n",
    "    line=dict(width=2,\n",
    "              color='rgb(168, 71, 247)'),\n",
    "    fill='tonexty',\n",
    "    name='Car'\n",
    ")\n",
    "\n",
    "data = [bicycle, motorbike, truck, train, boat, airplane, bus, car]\n",
    "\n",
    "\n",
    "layout = go.Layout(\n",
    "    autosize=False,\n",
    "    width=700,\n",
    "    height=400,\n",
    "    title='Number of Tracks of a Given Vehicle Type Across Annotated Videos',\n",
    "    xaxis=dict(\n",
    "        title='Date'),\n",
    "    yaxis=dict(\n",
    "        title='Number of Tracks'),\n",
    "    )\n",
    "fig = go.Figure(data=data, layout=layout)\n",
    "\n",
    "iplot(fig)"
   ]
  },
  {
   "cell_type": "markdown",
   "metadata": {
    "slideshow": {
     "slide_type": "slide"
    }
   },
   "source": [
    "## Animal Statistics"
   ]
  },
  {
   "cell_type": "code",
   "execution_count": 18,
   "metadata": {
    "slideshow": {
     "slide_type": "-"
    }
   },
   "outputs": [
    {
     "data": {
      "image/png": "[encoded data removed]",
      "text/plain": [
       "<matplotlib.figure.Figure at 0x11257bd90>"
      ]
     },
     "metadata": {},
     "output_type": "display_data"
    }
   ],
   "source": [
    "# Radar chart of animals by clip count\n",
    "%matplotlib inline\n",
    "from math import pi\n",
    "import matplotlib.pyplot as plt\n",
    "\n",
    "fig = plt.figure(figsize=(15, 9))\n",
    "\n",
    "# Set data\n",
    "cat_cli = ['Cat','Cow','Dog','Horse', 'Bird','Sheep','Insect','Other Animal']\n",
    "values = [cat_clip,cow_clip,dog_clip,horse_clip,bird_clip,sheep_clip,insect_clip,other_animal_clip]\n",
    "\n",
    "N = len(cat_cli)\n",
    "\n",
    "x_as = [n / float(N) * 2 * pi for n in range(N)]\n",
    "\n",
    "# Because our chart will be circular we need to append a copy of the first \n",
    "# value of each list at the end of each list with data\n",
    "values += values[:1]\n",
    "x_as += x_as[:1]\n",
    "\n",
    "\n",
    "# Set color of axes\n",
    "plt.rc('axes', linewidth=0.5, edgecolor=\"#888888\")\n",
    "\n",
    "\n",
    "# Create polar plot\n",
    "ax1 = plt.subplot(2,2,1, polar=True)\n",
    "\n",
    "\n",
    "# Set clockwise rotation. That is:\n",
    "ax1.set_theta_offset(pi / 2)\n",
    "ax1.set_theta_direction(-1)\n",
    "\n",
    "\n",
    "# Set position of y-labels\n",
    "ax1.set_rlabel_position(0)\n",
    "\n",
    "\n",
    "# Set color and linestyle of grid\n",
    "ax1.xaxis.grid(True, color=\"#888888\", linestyle='solid', linewidth=0.5)\n",
    "ax1.yaxis.grid(True, color=\"#888888\", linestyle='solid', linewidth=0.5)\n",
    "\n",
    "\n",
    "# Set number of radial axes and remove labels\n",
    "plt.xticks(x_as[:-1], [])\n",
    "\n",
    "# Set yticks\n",
    "plt.yticks([50, 100, 150, 200, 250], [\"50\", \"100\", \"150\", \"200\", \"250\"])\n",
    "\n",
    "\n",
    "# Plot data\n",
    "ax1.plot(x_as, values, linewidth=2, linestyle='solid', zorder=3, color='blue')\n",
    "\n",
    "# Fill area\n",
    "ax1.fill(x_as, values, 'blue', alpha=0.3)\n",
    "\n",
    "\n",
    "# Set axes limits\n",
    "plt.ylim(0, 300)\n",
    "\n",
    "\n",
    "# Draw ytick labels to make sure they fit properly\n",
    "for i in range(N):\n",
    "    angle_rad = i / float(N) * 2 * pi\n",
    "\n",
    "    if angle_rad == 0:\n",
    "        ha, distance_ax = \"center\", 230\n",
    "    elif 0 < angle_rad < pi:\n",
    "        ha, distance_ax = \"left\", 230\n",
    "    elif angle_rad == pi:\n",
    "        ha, distance_ax = \"center\", 230\n",
    "    else:\n",
    "        ha, distance_ax = \"right\", 230\n",
    "\n",
    "    ax1.text(angle_rad, 100 + distance_ax, cat_cli[i], size=10, horizontalalignment=ha, verticalalignment=\"center\")\n",
    "\n",
    "ax1.set_title('Number of Clips Including an Object Type', y=1.1)\n",
    "\n",
    "# Set data\n",
    "cat_object = ['Cat','Cow','Dog','Horse', 'Bird','Sheep','Insect','Other Animal']\n",
    "values = [cat_obj,cow_obj,dog_obj,horse_obj,bird_obj,sheep_obj,insect_obj,other_animal_obj]\n",
    "\n",
    "N = len(cat_object)\n",
    "\n",
    "x_as = [n / float(N) * 2 * pi for n in range(N)]\n",
    "\n",
    "# Because our chart will be circular we need to append a copy of the first \n",
    "# value of each list at the end of each list with data\n",
    "values += values[:1]\n",
    "x_as += x_as[:1]\n",
    "\n",
    "\n",
    "# Set color of axes\n",
    "plt.rc('axes', linewidth=0.5, edgecolor=\"#888888\")\n",
    "\n",
    "\n",
    "# Create polar plot\n",
    "ax2 = plt.subplot(2,2,2, polar=True)\n",
    "\n",
    "\n",
    "# Set clockwise rotation. That is:\n",
    "ax2.set_theta_offset(pi / 2)\n",
    "ax2.set_theta_direction(-1)\n",
    "\n",
    "\n",
    "# Set position of y-labels\n",
    "ax2.set_rlabel_position(0)\n",
    "\n",
    "\n",
    "# Set color and linestyle of grid\n",
    "ax2.xaxis.grid(True, color=\"#888888\", linestyle='solid', linewidth=0.5)\n",
    "ax2.yaxis.grid(True, color=\"#888888\", linestyle='solid', linewidth=0.5)\n",
    "\n",
    "\n",
    "# Set number of radial axes and remove labels\n",
    "plt.xticks(x_as[:-1], [])\n",
    "\n",
    "# Set yticks\n",
    "plt.yticks([100, 200, 300, 400, 500], [\"100\", \"200\", \"300\", \"400\", \"500\"])\n",
    "\n",
    "\n",
    "# Plot data\n",
    "ax2.plot(x_as, values, linewidth=2, linestyle='solid', zorder=3, color='orange')\n",
    "\n",
    "# Fill area\n",
    "ax2.fill(x_as, values, 'orange', alpha=0.3)\n",
    "\n",
    "\n",
    "# Set axes limits\n",
    "plt.ylim(0, 600)\n",
    "\n",
    "\n",
    "# Draw ytick labels to make sure they fit properly\n",
    "for i in range(N):\n",
    "    angle_rad = i / float(N) * 2 * pi\n",
    "\n",
    "    if angle_rad == 0:\n",
    "        ha, distance_ax = \"center\", 550\n",
    "    elif 0 < angle_rad < pi:\n",
    "        ha, distance_ax = \"left\", 550\n",
    "    elif angle_rad == pi:\n",
    "        ha, distance_ax = \"center\", 550\n",
    "    else:\n",
    "        ha, distance_ax = \"right\", 550\n",
    "\n",
    "    ax2.text(angle_rad, 100 + distance_ax, cat_object[i], size=10, horizontalalignment=ha, verticalalignment=\"center\")\n",
    "\n",
    "ax2.set_title('Number of Object Tracks in Clips', y=1.1)\n",
    "    \n",
    "plt.show()"
   ]
  },
  {
   "cell_type": "code",
   "execution_count": 19,
   "metadata": {
    "slideshow": {
     "slide_type": "-"
    }
   },
   "outputs": [
    {
     "data": {
      "text/markdown": [
       "Number of annotated clips with animals: 655 (+0 since last week)"
      ],
      "text/plain": [
       "<IPython.core.display.Markdown object>"
      ]
     },
     "metadata": {},
     "output_type": "display_data"
    },
    {
     "data": {
      "text/markdown": [
       "Percentage of clips with animals in it: 10%"
      ],
      "text/plain": [
       "<IPython.core.display.Markdown object>"
      ]
     },
     "metadata": {},
     "output_type": "display_data"
    }
   ],
   "source": [
    "# total clips with animals\n",
    "total_clips_w_an= cat_clip+dog_clip+cow_clip+horse_clip+sheep_clip+bird_clip+insect_clip+other_animal_clip\n",
    "\n",
    "# new clips with animals this week\n",
    "an_clip_difference= (cat_clip+dog_clip+cow_clip+horse_clip+sheep_clip+bird_clip+insect_clip+other_animal_clip)-(prev_cat_clip+prev_dog_clip+prev_cow_clip+prev_horse_clip+prev_sheep_clip+prev_bird_clip+prev_insect_clip+prev_other_animal_clip)\n",
    "\n",
    "# total cat tracks across all annotated clips\n",
    "total_cat_tracks= cat_obj\n",
    "\n",
    "# new cat tracks this week\n",
    "cat_obj_difference=cat_obj-prev_cat_obj\n",
    "\n",
    "# total dog tracks across all annotated clips\n",
    "total_dog_tracks= dog_obj\n",
    "\n",
    "# new dog tracks this week\n",
    "dog_obj_difference=dog_obj-prev_dog_obj\n",
    "\n",
    "# total insect tracks across all annotated clips\n",
    "total_insect_tracks= insect_obj\n",
    "\n",
    "# new insect tracks this week\n",
    "insect_obj_difference=insect_obj-prev_insect_obj\n",
    "\n",
    "# percent of tracks with vehicles\n",
    "percent_clips_w_an=(float(total_clips_w_an)/total_clips_annotated)*100\n",
    "\n",
    "tot_an= (\"Number of annotated clips with animals: %d (+%d since last week)\" % (total_clips_w_an,an_clip_difference))\n",
    "#tot_cat= (\"Number of cats annotated in clips: %d (+%d since last week)\" % (total_cat_tracks,cat_obj_difference))\n",
    "#tot_dog= (\"Number of dogs annotated in clips: %d (+%d since last week)\" % (total_dog_tracks,dog_obj_difference))\n",
    "an_perc= (\"Percentage of clips with animals in it: %d%%\" % (percent_clips_w_an))\n",
    "\n",
    "display(Markdown(tot_an))\n",
    "#display(Markdown(tot_cat))\n",
    "#display(Markdown(tot_dog))\n",
    "display(Markdown(an_perc))"
   ]
  },
  {
   "cell_type": "markdown",
   "metadata": {
    "slideshow": {
     "slide_type": "slide"
    }
   },
   "source": [
    "## Package Statistics"
   ]
  },
  {
   "cell_type": "code",
   "execution_count": 20,
   "metadata": {},
   "outputs": [
    {
     "data": {
      "text/html": [
       "<script>requirejs.config({paths: { 'plotly': ['https://cdn.plot.ly/plotly-latest.min']},});if(!window.Plotly) {{require(['plotly'],function(plotly) {window.Plotly=plotly;});}}</script>"
      ],
      "text/vnd.plotly.v1+html": [
       "<script>requirejs.config({paths: { 'plotly': ['https://cdn.plot.ly/plotly-latest.min']},});if(!window.Plotly) {{require(['plotly'],function(plotly) {window.Plotly=plotly;});}}</script>"
      ]
     },
     "metadata": {},
     "output_type": "display_data"
    },
    {
     "data": {
      "application/vnd.plotly.v1+json": {
       "data": [
        {
         "fill": "tonexty",
         "hoverinfo": "x+text",
         "line": {
          "color": "rgb(109, 163, 249)",
          "width": 2
         },
         "mode": "lines",
         "name": "Videos With Packages",
         "text": [
          "111",
          "114",
          "115",
          "115"
         ],
         "type": "scatter",
         "x": [
          "2017-07-31 06:15:01",
          "2017-08-07 18:12:00",
          "2017-08-11 06:15:02",
          "2017-08-14 06:15:01"
         ],
         "y": [
          111,
          114,
          115,
          115
         ]
        },
        {
         "fill": "tonexty",
         "hoverinfo": "x+text",
         "line": {
          "color": "rgb(242, 204, 109)",
          "width": 2
         },
         "mode": "lines",
         "name": "Package Tracks in Videos",
         "text": [
          "185",
          "228",
          "229",
          "229"
         ],
         "type": "scatter",
         "x": [
          "2017-07-31 06:15:01",
          "2017-08-07 18:12:00",
          "2017-08-11 06:15:02",
          "2017-08-14 06:15:01"
         ],
         "y": [
          185,
          228,
          229,
          229
         ]
        }
       ],
       "layout": {
        "autosize": false,
        "height": 350,
        "title": "Videos With Packages and Package Tracks in Videos Over Time",
        "width": 750,
        "xaxis": {
         "title": "Date"
        },
        "yaxis": {
         "title": "Count"
        }
       }
      },
      "text/html": [
       "<div id=\"76fc66f6-abb4-4430-bbdb-f3e7f52c50d4\" style=\"height: 350px; width: 750px;\" class=\"plotly-graph-div\"></div><script type=\"text/javascript\">require([\"plotly\"], function(Plotly) { window.PLOTLYENV=window.PLOTLYENV || {};window.PLOTLYENV.BASE_URL=\"https://plot.ly\";Plotly.newPlot(\"76fc66f6-abb4-4430-bbdb-f3e7f52c50d4\", [{\"name\": \"Videos With Packages\", \"text\": [\"111\", \"114\", \"115\", \"115\"], \"mode\": \"lines\", \"hoverinfo\": \"x+text\", \"y\": [111, 114, 115, 115], \"x\": [\"2017-07-31 06:15:01\", \"2017-08-07 18:12:00\", \"2017-08-11 06:15:02\", \"2017-08-14 06:15:01\"], \"line\": {\"color\": \"rgb(109, 163, 249)\", \"width\": 2}, \"type\": \"scatter\", \"fill\": \"tonexty\"}, {\"name\": \"Package Tracks in Videos\", \"text\": [\"185\", \"228\", \"229\", \"229\"], \"mode\": \"lines\", \"hoverinfo\": \"x+text\", \"y\": [185, 228, 229, 229], \"x\": [\"2017-07-31 06:15:01\", \"2017-08-07 18:12:00\", \"2017-08-11 06:15:02\", \"2017-08-14 06:15:01\"], \"line\": {\"color\": \"rgb(242, 204, 109)\", \"width\": 2}, \"type\": \"scatter\", \"fill\": \"tonexty\"}], {\"autosize\": false, \"title\": \"Videos With Packages and Package Tracks in Videos Over Time\", \"yaxis\": {\"title\": \"Count\"}, \"height\": 350, \"width\": 750, \"xaxis\": {\"title\": \"Date\"}}, {\"linkText\": \"Export to plot.ly\", \"showLink\": true})});</script>"
      ],
      "text/vnd.plotly.v1+html": [
       "<div id=\"76fc66f6-abb4-4430-bbdb-f3e7f52c50d4\" style=\"height: 350px; width: 750px;\" class=\"plotly-graph-div\"></div><script type=\"text/javascript\">require([\"plotly\"], function(Plotly) { window.PLOTLYENV=window.PLOTLYENV || {};window.PLOTLYENV.BASE_URL=\"https://plot.ly\";Plotly.newPlot(\"76fc66f6-abb4-4430-bbdb-f3e7f52c50d4\", [{\"name\": \"Videos With Packages\", \"text\": [\"111\", \"114\", \"115\", \"115\"], \"mode\": \"lines\", \"hoverinfo\": \"x+text\", \"y\": [111, 114, 115, 115], \"x\": [\"2017-07-31 06:15:01\", \"2017-08-07 18:12:00\", \"2017-08-11 06:15:02\", \"2017-08-14 06:15:01\"], \"line\": {\"color\": \"rgb(109, 163, 249)\", \"width\": 2}, \"type\": \"scatter\", \"fill\": \"tonexty\"}, {\"name\": \"Package Tracks in Videos\", \"text\": [\"185\", \"228\", \"229\", \"229\"], \"mode\": \"lines\", \"hoverinfo\": \"x+text\", \"y\": [185, 228, 229, 229], \"x\": [\"2017-07-31 06:15:01\", \"2017-08-07 18:12:00\", \"2017-08-11 06:15:02\", \"2017-08-14 06:15:01\"], \"line\": {\"color\": \"rgb(242, 204, 109)\", \"width\": 2}, \"type\": \"scatter\", \"fill\": \"tonexty\"}], {\"autosize\": false, \"title\": \"Videos With Packages and Package Tracks in Videos Over Time\", \"yaxis\": {\"title\": \"Count\"}, \"height\": 350, \"width\": 750, \"xaxis\": {\"title\": \"Date\"}}, {\"linkText\": \"Export to plot.ly\", \"showLink\": true})});</script>"
      ]
     },
     "metadata": {},
     "output_type": "display_data"
    }
   ],
   "source": [
    "init_notebook_mode(connected=True)   \n",
    "\n",
    "\n",
    "# Add original data\n",
    "x=ts['timestamp'].tolist()\n",
    "\n",
    "y0_org=ts['video_counts.package'].tolist()\n",
    "y1_org=ts['individual_counts.package'].tolist()\n",
    "\n",
    "\n",
    "# Add data to create cumulative stacked values\n",
    "y0_stck=y0_org\n",
    "y1_stck=y1_org\n",
    "\n",
    "# Create proper percentages for proportion of graph\n",
    "y0_perc_gra=y0_stck\n",
    "y1_perc_gra=y1_stck\n",
    "\n",
    "\n",
    "# Make original values strings and add % for hover text\n",
    "y0_txt=[str(y0) for y0 in y0_perc_gra]\n",
    "y1_txt=[str(y1) for y1 in y1_perc_gra]\n",
    "\n",
    "\n",
    "per_clip = go.Scatter(\n",
    "    x=x,\n",
    "    y=y0_stck,\n",
    "    text=y0_txt,\n",
    "    hoverinfo='x+text',\n",
    "    mode='lines',\n",
    "    line=dict(width=2,\n",
    "              color='rgb(109, 163, 249)'),\n",
    "    fill='tonexty',\n",
    "    name='Videos With Packages'\n",
    ")\n",
    "\n",
    "per_track = go.Scatter(\n",
    "    x=x,\n",
    "    y=y1_stck,\n",
    "    text=y1_txt,\n",
    "    hoverinfo='x+text',\n",
    "    mode='lines',\n",
    "    line=dict(width=2,\n",
    "              color='rgb(242, 204, 109)'),\n",
    "    fill='tonexty',\n",
    "    name='Package Tracks in Videos'\n",
    ")\n",
    "\n",
    "data = [per_clip, per_track]\n",
    "\n",
    "\n",
    "layout = go.Layout(\n",
    "    autosize=False,\n",
    "    width=750,\n",
    "    height=350,\n",
    "    title='Videos With Packages and Package Tracks in Videos Over Time',\n",
    "    xaxis=dict(\n",
    "        title='Date'),\n",
    "    yaxis=dict(\n",
    "        title='Count'),\n",
    "    )\n",
    "fig = go.Figure(data=data, layout=layout)\n",
    "\n",
    "iplot(fig)"
   ]
  },
  {
   "cell_type": "code",
   "execution_count": 21,
   "metadata": {},
   "outputs": [
    {
     "data": {
      "text/markdown": [
       "Number of annotated clips with packages: 115 (+0 since last week)"
      ],
      "text/plain": [
       "<IPython.core.display.Markdown object>"
      ]
     },
     "metadata": {},
     "output_type": "display_data"
    },
    {
     "data": {
      "text/markdown": [
       "Number of individual packages annotated in clips: 229 (+0 since last week)"
      ],
      "text/plain": [
       "<IPython.core.display.Markdown object>"
      ]
     },
     "metadata": {},
     "output_type": "display_data"
    },
    {
     "data": {
      "text/markdown": [
       "Percentage of clips with packages in it: 1%"
      ],
      "text/plain": [
       "<IPython.core.display.Markdown object>"
      ]
     },
     "metadata": {},
     "output_type": "display_data"
    }
   ],
   "source": [
    "# total clips with packages\n",
    "total_clips_w_package= package_clip\n",
    "\n",
    "# new clips with packages this week\n",
    "package_clip_difference=package_clip-prev_package_clip\n",
    "\n",
    "# total packages tracks across all annotated clips\n",
    "total_package_tracks=package_obj\n",
    "\n",
    "# new packages tracks this week\n",
    "package_obj_difference=package_obj-prev_package_obj\n",
    "\n",
    "# percent of tracks with packages\n",
    "percent_clips_w_package=(float(package_clip)/total_clips_annotated)*100\n",
    "\n",
    "tot_pac= (\"Number of annotated clips with packages: %d (+%d since last week)\" % (total_clips_w_package,package_clip_difference))\n",
    "tot_ind_pac= (\"Number of individual packages annotated in clips: %d (+%d since last week)\" % (total_package_tracks,package_obj_difference))\n",
    "pac_perc= (\"Percentage of clips with packages in it: %d%%\" % (percent_clips_w_package))\n",
    "\n",
    "display(Markdown(tot_pac))\n",
    "display(Markdown(tot_ind_pac))\n",
    "display(Markdown(pac_perc))"
   ]
  },
  {
   "cell_type": "markdown",
   "metadata": {
    "slideshow": {
     "slide_type": "skip"
    }
   },
   "source": [
    "### Sound Stats"
   ]
  },
  {
   "cell_type": "code",
   "execution_count": 22,
   "metadata": {
    "collapsed": true,
    "slideshow": {
     "slide_type": "skip"
    }
   },
   "outputs": [],
   "source": [
    "####Part 3: Plots (plotly, seaborn, etc.)#########\n",
    "\n",
    "# Ideas for plots\n",
    "# - Growth rate of videos annotated - timeseries plot with percent increase\n",
    "# - Growth rate by object type - timeseries plot with percent increase\n",
    "# - Radar plot of object type proportions ---done\n",
    "# - Radar plot of object type proportions in annotated vids versus beta cameras?\n",
    "# - Proportion of objects in gt to objects shown in jon's health stats - should be similar or show unusual proportion of \n",
    "# things in donated vids\n",
    "#"
   ]
  },
  {
   "cell_type": "code",
   "execution_count": 23,
   "metadata": {},
   "outputs": [
    {
     "data": {
      "text/html": [
       "<div>\n",
       "<style>\n",
       "    .dataframe thead tr:only-child th {\n",
       "        text-align: right;\n",
       "    }\n",
       "\n",
       "    .dataframe thead th {\n",
       "        text-align: left;\n",
       "    }\n",
       "\n",
       "    .dataframe tbody tr th {\n",
       "        vertical-align: top;\n",
       "    }\n",
       "</style>\n",
       "<table border=\"1\" class=\"dataframe\">\n",
       "  <thead>\n",
       "    <tr style=\"text-align: right;\">\n",
       "      <th></th>\n",
       "      <th>camera_count</th>\n",
       "      <th>donated_video_count</th>\n",
       "      <th>free_video_count</th>\n",
       "      <th>individual_counts.airplane</th>\n",
       "      <th>individual_counts.bicycle</th>\n",
       "      <th>individual_counts.bird</th>\n",
       "      <th>individual_counts.boat</th>\n",
       "      <th>individual_counts.bus</th>\n",
       "      <th>individual_counts.car</th>\n",
       "      <th>individual_counts.cat</th>\n",
       "      <th>...</th>\n",
       "      <th>video_counts.face</th>\n",
       "      <th>video_counts.horse</th>\n",
       "      <th>video_counts.insect</th>\n",
       "      <th>video_counts.motorbike</th>\n",
       "      <th>video_counts.other_animal</th>\n",
       "      <th>video_counts.package</th>\n",
       "      <th>video_counts.person</th>\n",
       "      <th>video_counts.sheep</th>\n",
       "      <th>video_counts.train</th>\n",
       "      <th>video_counts.truck</th>\n",
       "    </tr>\n",
       "  </thead>\n",
       "  <tbody>\n",
       "    <tr>\n",
       "      <th>2</th>\n",
       "      <td>1163</td>\n",
       "      <td>14465</td>\n",
       "      <td>692</td>\n",
       "      <td>0</td>\n",
       "      <td>50</td>\n",
       "      <td>304</td>\n",
       "      <td>12</td>\n",
       "      <td>22</td>\n",
       "      <td>3867</td>\n",
       "      <td>201</td>\n",
       "      <td>...</td>\n",
       "      <td>1435</td>\n",
       "      <td>6</td>\n",
       "      <td>121</td>\n",
       "      <td>30</td>\n",
       "      <td>234</td>\n",
       "      <td>111</td>\n",
       "      <td>1808</td>\n",
       "      <td>4</td>\n",
       "      <td>0</td>\n",
       "      <td>94</td>\n",
       "    </tr>\n",
       "    <tr>\n",
       "      <th>1</th>\n",
       "      <td>1639</td>\n",
       "      <td>14465</td>\n",
       "      <td>1464</td>\n",
       "      <td>0</td>\n",
       "      <td>74</td>\n",
       "      <td>306</td>\n",
       "      <td>12</td>\n",
       "      <td>24</td>\n",
       "      <td>4475</td>\n",
       "      <td>200</td>\n",
       "      <td>...</td>\n",
       "      <td>2256</td>\n",
       "      <td>2</td>\n",
       "      <td>51</td>\n",
       "      <td>36</td>\n",
       "      <td>133</td>\n",
       "      <td>114</td>\n",
       "      <td>2650</td>\n",
       "      <td>2</td>\n",
       "      <td>0</td>\n",
       "      <td>98</td>\n",
       "    </tr>\n",
       "    <tr>\n",
       "      <th>0</th>\n",
       "      <td>1639</td>\n",
       "      <td>14465</td>\n",
       "      <td>1856</td>\n",
       "      <td>0</td>\n",
       "      <td>87</td>\n",
       "      <td>310</td>\n",
       "      <td>12</td>\n",
       "      <td>24</td>\n",
       "      <td>6302</td>\n",
       "      <td>203</td>\n",
       "      <td>...</td>\n",
       "      <td>2381</td>\n",
       "      <td>2</td>\n",
       "      <td>58</td>\n",
       "      <td>36</td>\n",
       "      <td>134</td>\n",
       "      <td>115</td>\n",
       "      <td>2817</td>\n",
       "      <td>2</td>\n",
       "      <td>0</td>\n",
       "      <td>120</td>\n",
       "    </tr>\n",
       "    <tr>\n",
       "      <th>3</th>\n",
       "      <td>1639</td>\n",
       "      <td>18058</td>\n",
       "      <td>2189</td>\n",
       "      <td>0</td>\n",
       "      <td>87</td>\n",
       "      <td>310</td>\n",
       "      <td>12</td>\n",
       "      <td>24</td>\n",
       "      <td>6302</td>\n",
       "      <td>203</td>\n",
       "      <td>...</td>\n",
       "      <td>2381</td>\n",
       "      <td>2</td>\n",
       "      <td>58</td>\n",
       "      <td>36</td>\n",
       "      <td>134</td>\n",
       "      <td>115</td>\n",
       "      <td>2817</td>\n",
       "      <td>2</td>\n",
       "      <td>0</td>\n",
       "      <td>120</td>\n",
       "    </tr>\n",
       "  </tbody>\n",
       "</table>\n",
       "<p>4 rows × 44 columns</p>\n",
       "</div>"
      ],
      "text/plain": [
       "   camera_count  donated_video_count  free_video_count  \\\n",
       "2          1163                14465               692   \n",
       "1          1639                14465              1464   \n",
       "0          1639                14465              1856   \n",
       "3          1639                18058              2189   \n",
       "\n",
       "   individual_counts.airplane  individual_counts.bicycle  \\\n",
       "2                           0                         50   \n",
       "1                           0                         74   \n",
       "0                           0                         87   \n",
       "3                           0                         87   \n",
       "\n",
       "   individual_counts.bird  individual_counts.boat  individual_counts.bus  \\\n",
       "2                     304                      12                     22   \n",
       "1                     306                      12                     24   \n",
       "0                     310                      12                     24   \n",
       "3                     310                      12                     24   \n",
       "\n",
       "   individual_counts.car  individual_counts.cat         ...          \\\n",
       "2                   3867                    201         ...           \n",
       "1                   4475                    200         ...           \n",
       "0                   6302                    203         ...           \n",
       "3                   6302                    203         ...           \n",
       "\n",
       "   video_counts.face  video_counts.horse  video_counts.insect  \\\n",
       "2               1435                   6                  121   \n",
       "1               2256                   2                   51   \n",
       "0               2381                   2                   58   \n",
       "3               2381                   2                   58   \n",
       "\n",
       "   video_counts.motorbike  video_counts.other_animal  video_counts.package  \\\n",
       "2                      30                        234                   111   \n",
       "1                      36                        133                   114   \n",
       "0                      36                        134                   115   \n",
       "3                      36                        134                   115   \n",
       "\n",
       "   video_counts.person  video_counts.sheep  video_counts.train  \\\n",
       "2                 1808                   4                   0   \n",
       "1                 2650                   2                   0   \n",
       "0                 2817                   2                   0   \n",
       "3                 2817                   2                   0   \n",
       "\n",
       "   video_counts.truck  \n",
       "2                  94  \n",
       "1                  98  \n",
       "0                 120  \n",
       "3                 120  \n",
       "\n",
       "[4 rows x 44 columns]"
      ]
     },
     "execution_count": 23,
     "metadata": {},
     "output_type": "execute_result"
    }
   ],
   "source": [
    "ts.head()"
   ]
  },
  {
   "cell_type": "code",
   "execution_count": null,
   "metadata": {
    "collapsed": true
   },
   "outputs": [],
   "source": []
  }
 ],
 "metadata": {
  "celltoolbar": "Slideshow",
  "kernelspec": {
   "display_name": "Python 2",
   "language": "python",
   "name": "python2"
  },
  "language_info": {
   "codemirror_mode": {
    "name": "ipython",
    "version": 2
   },
   "file_extension": ".py",
   "mimetype": "text/x-python",
   "name": "python",
   "nbconvert_exporter": "python",
   "pygments_lexer": "ipython2",
   "version": "2.7.13"
  }
 },
 "nbformat": 4,
 "nbformat_minor": 2
}
